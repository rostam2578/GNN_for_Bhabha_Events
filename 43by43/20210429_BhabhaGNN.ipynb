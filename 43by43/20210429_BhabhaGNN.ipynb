{
 "cells": [
  {
   "cell_type": "markdown",
   "metadata": {
    "id": "OCWWEAwNZHB9"
   },
   "source": [
    "# Installation of Graphic pytorch"
   ]
  },
  {
   "cell_type": "code",
   "execution_count": 1,
   "metadata": {
    "id": "l2xshHjzjEFe"
   },
   "outputs": [],
   "source": [
    "%reset -f"
   ]
  },
  {
   "cell_type": "code",
   "execution_count": 4,
   "metadata": {
    "colab": {
     "base_uri": "https://localhost:8080/"
    },
    "id": "BFTFWvn93JCn",
    "outputId": "8e729d9a-07e9-4bb0-e21f-3653d478b450"
   },
   "outputs": [
    {
     "name": "stdout",
     "output_type": "stream",
     "text": [
      "1.2.0\n",
      "10.0.130\n",
      "/usr/bin/sh: -c: line 0: unexpected EOF while looking for matching `\"'\n",
      "/usr/bin/sh: -c: line 1: syntax error: unexpected end of file\n"
     ]
    }
   ],
   "source": [
    "!python -c \"import torch; print(torch.__version__)\"\n",
    "!python -c \"import torch; print(torch.version.cuda)\"\n",
    "!python -c \"import torch; print(torch.cuda.is_available())"
   ]
  },
  {
   "cell_type": "code",
   "execution_count": 2,
   "metadata": {
    "colab": {
     "base_uri": "https://localhost:8080/"
    },
    "id": "PVmbBoRZ3Ew9",
    "outputId": "06c690c3-e9de-4f75-9790-028df27b2c1b"
   },
   "outputs": [
    {
     "name": "stdout",
     "output_type": "stream",
     "text": [
      "/usr/bin/sh: nvcc: command not found\r\n"
     ]
    }
   ],
   "source": [
    " !nvcc --version"
   ]
  },
  {
   "cell_type": "code",
   "execution_count": 3,
   "metadata": {
    "colab": {
     "base_uri": "https://localhost:8080/"
    },
    "id": "lID6xFJISQG1",
    "outputId": "dbf2fd49-5197-4d69-9522-880db2fa68fd"
   },
   "outputs": [
    {
     "name": "stdout",
     "output_type": "stream",
     "text": [
      "NVIDIA-SMI has failed because it couldn't communicate with the NVIDIA driver. Make sure that the latest NVIDIA driver is installed and running.\r\n",
      "\r\n"
     ]
    }
   ],
   "source": [
    "!nvidia-smi "
   ]
  },
  {
   "cell_type": "code",
   "execution_count": 5,
   "metadata": {
    "colab": {
     "base_uri": "https://localhost:8080/"
    },
    "id": "HGNkfaMeZq-T",
    "outputId": "d90caa1b-0a4b-473d-9ec8-877ef684327d"
   },
   "outputs": [],
   "source": [
    "# Installing torch geometric and its dependences\n",
    "#!pip install torch-scatter -f https://pytorch-geometric.com/whl/torch-1.8.0+cu111.html\n",
    "#!pip install torch-sparse -f https://pytorch-geometric.com/whl/torch-1.8.0+cu111.html\n",
    "#!pip install torch-cluster -f https://pytorch-geometric.com/whl/torch-1.8.0+cu111.html\n",
    "#!pip install torch-spline-conv -f https://pytorch-geometric.com/whl/torch-1.8.0+cu111.html\n",
    "#!pip install torch-geometric"
   ]
  },
  {
   "cell_type": "code",
   "execution_count": 6,
   "metadata": {
    "id": "mr17vDENSox1"
   },
   "outputs": [],
   "source": [
    "#List of installed packages\n",
    "#!pip list -v "
   ]
  },
  {
   "cell_type": "code",
   "execution_count": 5,
   "metadata": {
    "colab": {
     "base_uri": "https://localhost:8080/"
    },
    "id": "BClMryO1MSPG",
    "outputId": "fd177031-4843-4c5d-b698-79c7eb321c7c"
   },
   "outputs": [
    {
     "ename": "RuntimeError",
     "evalue": "cuda runtime error (38) : no CUDA-capable device is detected at /tmp/pip-req-build-p5q91txh/aten/src/THC/THCGeneral.cpp:50",
     "output_type": "error",
     "traceback": [
      "\u001b[0;31m---------------------------------------------------------------------------\u001b[0m",
      "\u001b[0;31mRuntimeError\u001b[0m                              Traceback (most recent call last)",
      "\u001b[0;32m<ipython-input-5-1cd8f2b9ec32>\u001b[0m in \u001b[0;36m<module>\u001b[0;34m\u001b[0m\n\u001b[1;32m      1\u001b[0m \u001b[0;32mimport\u001b[0m \u001b[0mtorch\u001b[0m\u001b[0;34m\u001b[0m\u001b[0;34m\u001b[0m\u001b[0m\n\u001b[0;32m----> 2\u001b[0;31m print( torch.cuda.get_device_capability(device=None), \\\n\u001b[0m\u001b[1;32m      3\u001b[0m \u001b[0;34m'\\n'\u001b[0m\u001b[0;34m,\u001b[0m \u001b[0mtorch\u001b[0m\u001b[0;34m.\u001b[0m\u001b[0mcuda\u001b[0m\u001b[0;34m.\u001b[0m\u001b[0mget_device_name\u001b[0m\u001b[0;34m(\u001b[0m\u001b[0mdevice\u001b[0m\u001b[0;34m=\u001b[0m\u001b[0;32mNone\u001b[0m\u001b[0;34m)\u001b[0m\u001b[0;34m,\u001b[0m\u001b[0;31m \u001b[0m\u001b[0;31m\\\u001b[0m\u001b[0;34m\u001b[0m\u001b[0;34m\u001b[0m\u001b[0m\n\u001b[1;32m      4\u001b[0m \u001b[0;34m'\\n'\u001b[0m\u001b[0;34m,\u001b[0m \u001b[0mtorch\u001b[0m\u001b[0;34m.\u001b[0m\u001b[0mcuda\u001b[0m\u001b[0;34m.\u001b[0m\u001b[0mget_device_properties\u001b[0m\u001b[0;34m(\u001b[0m\u001b[0mdevice\u001b[0m\u001b[0;34m=\u001b[0m\u001b[0;32mNone\u001b[0m\u001b[0;34m)\u001b[0m\u001b[0;34m,\u001b[0m\u001b[0;31m \u001b[0m\u001b[0;31m\\\u001b[0m\u001b[0;34m\u001b[0m\u001b[0;34m\u001b[0m\u001b[0m\n\u001b[1;32m      5\u001b[0m \u001b[0;34m'\\n'\u001b[0m\u001b[0;34m,\u001b[0m \u001b[0mtorch\u001b[0m\u001b[0;34m.\u001b[0m\u001b[0mcuda\u001b[0m\u001b[0;34m.\u001b[0m\u001b[0mdevice\u001b[0m\u001b[0;34m(\u001b[0m\u001b[0;36m1\u001b[0m\u001b[0;34m)\u001b[0m\u001b[0;34m,\u001b[0m\u001b[0;31m \u001b[0m\u001b[0;31m\\\u001b[0m\u001b[0;34m\u001b[0m\u001b[0;34m\u001b[0m\u001b[0m\n",
      "\u001b[0;32m/cvmfs/mlgpu.ihep.ac.cn/anaconda3/envs/pytorch/lib/python3.6/site-packages/torch/cuda/__init__.py\u001b[0m in \u001b[0;36mget_device_capability\u001b[0;34m(device)\u001b[0m\n\u001b[1;32m    307\u001b[0m         \u001b[0mtuple\u001b[0m\u001b[0;34m(\u001b[0m\u001b[0mint\u001b[0m\u001b[0;34m,\u001b[0m \u001b[0mint\u001b[0m\u001b[0;34m)\u001b[0m\u001b[0;34m:\u001b[0m \u001b[0mthe\u001b[0m \u001b[0mmajor\u001b[0m \u001b[0;32mand\u001b[0m \u001b[0mminor\u001b[0m \u001b[0mcuda\u001b[0m \u001b[0mcapability\u001b[0m \u001b[0mof\u001b[0m \u001b[0mthe\u001b[0m \u001b[0mdevice\u001b[0m\u001b[0;34m\u001b[0m\u001b[0;34m\u001b[0m\u001b[0m\n\u001b[1;32m    308\u001b[0m     \"\"\"\n\u001b[0;32m--> 309\u001b[0;31m     \u001b[0mprop\u001b[0m \u001b[0;34m=\u001b[0m \u001b[0mget_device_properties\u001b[0m\u001b[0;34m(\u001b[0m\u001b[0mdevice\u001b[0m\u001b[0;34m)\u001b[0m\u001b[0;34m\u001b[0m\u001b[0;34m\u001b[0m\u001b[0m\n\u001b[0m\u001b[1;32m    310\u001b[0m     \u001b[0;32mreturn\u001b[0m \u001b[0mprop\u001b[0m\u001b[0;34m.\u001b[0m\u001b[0mmajor\u001b[0m\u001b[0;34m,\u001b[0m \u001b[0mprop\u001b[0m\u001b[0;34m.\u001b[0m\u001b[0mminor\u001b[0m\u001b[0;34m\u001b[0m\u001b[0;34m\u001b[0m\u001b[0m\n\u001b[1;32m    311\u001b[0m \u001b[0;34m\u001b[0m\u001b[0m\n",
      "\u001b[0;32m/cvmfs/mlgpu.ihep.ac.cn/anaconda3/envs/pytorch/lib/python3.6/site-packages/torch/cuda/__init__.py\u001b[0m in \u001b[0;36mget_device_properties\u001b[0;34m(device)\u001b[0m\n\u001b[1;32m    313\u001b[0m \u001b[0;32mdef\u001b[0m \u001b[0mget_device_properties\u001b[0m\u001b[0;34m(\u001b[0m\u001b[0mdevice\u001b[0m\u001b[0;34m)\u001b[0m\u001b[0;34m:\u001b[0m\u001b[0;34m\u001b[0m\u001b[0;34m\u001b[0m\u001b[0m\n\u001b[1;32m    314\u001b[0m     \u001b[0;32mif\u001b[0m \u001b[0;32mnot\u001b[0m \u001b[0m_initialized\u001b[0m\u001b[0;34m:\u001b[0m\u001b[0;34m\u001b[0m\u001b[0;34m\u001b[0m\u001b[0m\n\u001b[0;32m--> 315\u001b[0;31m         \u001b[0minit\u001b[0m\u001b[0;34m(\u001b[0m\u001b[0;34m)\u001b[0m  \u001b[0;31m# will define _get_device_properties and _CudaDeviceProperties\u001b[0m\u001b[0;34m\u001b[0m\u001b[0;34m\u001b[0m\u001b[0m\n\u001b[0m\u001b[1;32m    316\u001b[0m     \u001b[0mdevice\u001b[0m \u001b[0;34m=\u001b[0m \u001b[0m_get_device_index\u001b[0m\u001b[0;34m(\u001b[0m\u001b[0mdevice\u001b[0m\u001b[0;34m,\u001b[0m \u001b[0moptional\u001b[0m\u001b[0;34m=\u001b[0m\u001b[0;32mTrue\u001b[0m\u001b[0;34m)\u001b[0m\u001b[0;34m\u001b[0m\u001b[0;34m\u001b[0m\u001b[0m\n\u001b[1;32m    317\u001b[0m     \u001b[0;32mif\u001b[0m \u001b[0mdevice\u001b[0m \u001b[0;34m<\u001b[0m \u001b[0;36m0\u001b[0m \u001b[0;32mor\u001b[0m \u001b[0mdevice\u001b[0m \u001b[0;34m>=\u001b[0m \u001b[0mdevice_count\u001b[0m\u001b[0;34m(\u001b[0m\u001b[0;34m)\u001b[0m\u001b[0;34m:\u001b[0m\u001b[0;34m\u001b[0m\u001b[0;34m\u001b[0m\u001b[0m\n",
      "\u001b[0;32m/cvmfs/mlgpu.ihep.ac.cn/anaconda3/envs/pytorch/lib/python3.6/site-packages/torch/cuda/__init__.py\u001b[0m in \u001b[0;36minit\u001b[0;34m()\u001b[0m\n\u001b[1;32m    159\u001b[0m     \u001b[0mDoes\u001b[0m \u001b[0mnothing\u001b[0m \u001b[0;32mif\u001b[0m \u001b[0mthe\u001b[0m \u001b[0mCUDA\u001b[0m \u001b[0mstate\u001b[0m \u001b[0;32mis\u001b[0m \u001b[0malready\u001b[0m \u001b[0minitialized\u001b[0m\u001b[0;34m.\u001b[0m\u001b[0;34m\u001b[0m\u001b[0;34m\u001b[0m\u001b[0m\n\u001b[1;32m    160\u001b[0m     \"\"\"\n\u001b[0;32m--> 161\u001b[0;31m     \u001b[0m_lazy_init\u001b[0m\u001b[0;34m(\u001b[0m\u001b[0;34m)\u001b[0m\u001b[0;34m\u001b[0m\u001b[0;34m\u001b[0m\u001b[0m\n\u001b[0m\u001b[1;32m    162\u001b[0m \u001b[0;34m\u001b[0m\u001b[0m\n\u001b[1;32m    163\u001b[0m \u001b[0;34m\u001b[0m\u001b[0m\n",
      "\u001b[0;32m/cvmfs/mlgpu.ihep.ac.cn/anaconda3/envs/pytorch/lib/python3.6/site-packages/torch/cuda/__init__.py\u001b[0m in \u001b[0;36m_lazy_init\u001b[0;34m()\u001b[0m\n\u001b[1;32m    177\u001b[0m             \"Cannot re-initialize CUDA in forked subprocess. \" + msg)\n\u001b[1;32m    178\u001b[0m     \u001b[0m_check_driver\u001b[0m\u001b[0;34m(\u001b[0m\u001b[0;34m)\u001b[0m\u001b[0;34m\u001b[0m\u001b[0;34m\u001b[0m\u001b[0m\n\u001b[0;32m--> 179\u001b[0;31m     \u001b[0mtorch\u001b[0m\u001b[0;34m.\u001b[0m\u001b[0m_C\u001b[0m\u001b[0;34m.\u001b[0m\u001b[0m_cuda_init\u001b[0m\u001b[0;34m(\u001b[0m\u001b[0;34m)\u001b[0m\u001b[0;34m\u001b[0m\u001b[0;34m\u001b[0m\u001b[0m\n\u001b[0m\u001b[1;32m    180\u001b[0m     \u001b[0m_cudart\u001b[0m \u001b[0;34m=\u001b[0m \u001b[0m_load_cudart\u001b[0m\u001b[0;34m(\u001b[0m\u001b[0;34m)\u001b[0m\u001b[0;34m\u001b[0m\u001b[0;34m\u001b[0m\u001b[0m\n\u001b[1;32m    181\u001b[0m     \u001b[0m_cudart\u001b[0m\u001b[0;34m.\u001b[0m\u001b[0mcudaGetErrorName\u001b[0m\u001b[0;34m.\u001b[0m\u001b[0mrestype\u001b[0m \u001b[0;34m=\u001b[0m \u001b[0mctypes\u001b[0m\u001b[0;34m.\u001b[0m\u001b[0mc_char_p\u001b[0m\u001b[0;34m\u001b[0m\u001b[0;34m\u001b[0m\u001b[0m\n",
      "\u001b[0;31mRuntimeError\u001b[0m: cuda runtime error (38) : no CUDA-capable device is detected at /tmp/pip-req-build-p5q91txh/aten/src/THC/THCGeneral.cpp:50"
     ]
    }
   ],
   "source": [
    "import torch\n",
    "print( torch.cuda.get_device_capability(device=None), \\\n",
    "'\\n', torch.cuda.get_device_name(device=None), \\\n",
    "'\\n', torch.cuda.get_device_properties(device=None), \\\n",
    "'\\n', torch.cuda.device(1), \\\n",
    "'\\n', torch.cuda.is_initialized(), \\\n",
    " )"
   ]
  },
  {
   "cell_type": "code",
   "execution_count": 8,
   "metadata": {
    "id": "ngdgVIUNiwyB"
   },
   "outputs": [],
   "source": [
    "import torch\n",
    "device = torch.device('cuda')"
   ]
  },
  {
   "cell_type": "markdown",
   "metadata": {
    "id": "6jHrtSB3CKem"
   },
   "source": [
    "# Data"
   ]
  },
  {
   "cell_type": "code",
   "execution_count": 9,
   "metadata": {
    "colab": {
     "base_uri": "https://localhost:8080/"
    },
    "id": "NPKt8pThasxE",
    "outputId": "98d50863-1820-4d6c-fa42-c37a1223228d"
   },
   "outputs": [
    {
     "data": {
      "text/plain": [
       "Data(edge_index=[2, 14534], x=[1849, 1])"
      ]
     },
     "execution_count": 9,
     "metadata": {},
     "output_type": "execute_result"
    }
   ],
   "source": [
    "#Defining the MDC wires as a grid with connected neighbours. \n",
    "#Each node on the border is connected vith 5 neighbores.\n",
    "#Other vertices are connected with 8 neighbotrs.\n",
    "\n",
    "import torch\n",
    "from torch_geometric.data import Data\n",
    "import numpy as np\n",
    "\n",
    "cell = 43\n",
    "layer = 43\n",
    "x = np.arange(0, cell * layer)\n",
    "edge_index = []\n",
    "\n",
    "x = torch.tensor(x, dtype=torch.float).view(cell * layer, 1)\n",
    "\n",
    "def wire(i, j):\n",
    "  return layer * j + i\n",
    "for i in range(cell):\n",
    "  for j in range(layer):\n",
    "    if i == 0:\n",
    "      edge_index1 = [wire(i, j), wire(i + 1, j)]\n",
    "      edge_index.extend([edge_index1])\n",
    "      edge_index2 = [wire(i, j), wire(cell-1, j)]\n",
    "      edge_index.extend([edge_index2])\n",
    "      if j != layer - 1:\n",
    "        edge_index3 = [wire(i, j), wire(cell-1, j + 1)]\n",
    "        edge_index.extend([edge_index3])\n",
    "        edge_index4 = [wire(i, j), wire(i + 1, j + 1)]\n",
    "        edge_index.extend([edge_index4])\n",
    "        edge_index13 = [wire(i, j), wire(i, j + 1)]\n",
    "        edge_index.extend([edge_index13])        \n",
    "      if j != 0:\n",
    "        edge_index5 = [wire(i, j), wire(cell-1, j - 1)]\n",
    "        edge_index.extend([edge_index5])\n",
    "        edge_index6 = [wire(i, j), wire(i + 1, j - 1)]\n",
    "        edge_index.extend([edge_index6])        \n",
    "        edge_index14 = [wire(i, j), wire(i, j - 1)]\n",
    "        edge_index.extend([edge_index14])\n",
    "    else:\n",
    "      edge_index7 = [wire(i, j), wire(i - 1, j)]\n",
    "      edge_index.extend([edge_index7])\n",
    "      edge_index8 = [wire(i, j), wire(((i + 1) % cell), j)]\n",
    "      edge_index.extend([edge_index8])\n",
    "      if j != layer - 1:\n",
    "        edge_index9 = [wire(i, j), wire(i-1, j + 1)]\n",
    "        edge_index.extend([edge_index9])\n",
    "        edge_index10 = [wire(i, j), wire(((i + 1) % cell), j + 1)]\n",
    "        edge_index.extend([edge_index10])\n",
    "        edge_index15 = [wire(i, j), wire(i, j + 1)]\n",
    "        edge_index.extend([edge_index15])\n",
    "      if j != 0:\n",
    "        edge_index11 = [wire(i, j), wire(i-1, j - 1)]\n",
    "        edge_index.extend([edge_index11])\n",
    "        edge_index12 = [wire(i, j), wire(((i + 1) % cell), j - 1)]\n",
    "        edge_index.extend([edge_index12])\n",
    "        edge_index16 = [wire(i, j), wire(i, j - 1)]\n",
    "        edge_index.extend([edge_index16])\n",
    "\n",
    "\n",
    "set_edge_index = {(i, j) for i, j in edge_index}\n",
    "edge_index = list(set_edge_index)\n",
    "edge_index = torch.tensor(edge_index, dtype=torch.long).view( (8 * cell * layer - 3 * (cell + layer)), 2).t().contiguous()\n",
    "#edge_index = torch.tensor(edge_index, dtype=torch.long).view( 270, 2).t().contiguous()\n",
    "data = Data(x=x, edge_index=edge_index)\n",
    "data = data.to(device)\n",
    "data"
   ]
  },
  {
   "cell_type": "code",
   "execution_count": 10,
   "metadata": {
    "colab": {
     "base_uri": "https://localhost:8080/"
    },
    "id": "9Im5jaCMbS1u",
    "outputId": "14acdc69-5388-49b3-b36f-9bcd56edbe1f"
   },
   "outputs": [
    {
     "name": "stdout",
     "output_type": "stream",
     "text": [
      "Number of nodes: 1849\n",
      "Number of edges: 14534\n",
      "Average node degree: 7.86\n",
      "Contains isolated nodes: False\n",
      "Contains self-loops: False\n",
      "Is undirected: True\n"
     ]
    }
   ],
   "source": [
    "# Gather some statistics about the graph.\n",
    "print(f'Number of nodes: {data.num_nodes}')\n",
    "print(f'Number of edges: {data.num_edges}')\n",
    "print(f'Average node degree: {data.num_edges / data.num_nodes:.2f}')\n",
    "print(f'Contains isolated nodes: {data.contains_isolated_nodes()}')\n",
    "print(f'Contains self-loops: {data.contains_self_loops()}')\n",
    "print(f'Is undirected: {data.is_undirected()}')"
   ]
  },
  {
   "cell_type": "code",
   "execution_count": 11,
   "metadata": {
    "colab": {
     "base_uri": "https://localhost:8080/"
    },
    "id": "KudoXB9_Mq-z",
    "outputId": "644b4609-0845-424f-969c-6dbb01ae0975"
   },
   "outputs": [
    {
     "name": "stdout",
     "output_type": "stream",
     "text": [
      "tensor([[0.0000e+00],\n",
      "        [1.0000e+00],\n",
      "        [2.0000e+00],\n",
      "        ...,\n",
      "        [1.8460e+03],\n",
      "        [1.8470e+03],\n",
      "        [1.8480e+03]]) \n",
      " tensor([[1605, 1687, 1365,  ..., 1602, 1729,  308],\n",
      "        [1649, 1688, 1408,  ..., 1644, 1685,  265]])\n"
     ]
    }
   ],
   "source": [
    "print(x, '\\n', edge_index)"
   ]
  },
  {
   "cell_type": "code",
   "execution_count": 12,
   "metadata": {
    "id": "1R-avfVN9Nt2"
   },
   "outputs": [],
   "source": [
    "#upload from local drive when conected to the local host\n",
    "trainmatrix80d2tnbsmt = np.load('../../Research/jupyternotebook/bhabha-files/trainmatrix80d2tnbsmt.npy')\n",
    "trvalmatrix80d2tnbsmt = np.load('../../Research/jupyternotebook/bhabha-files/trvalmatrix80d2tnbsmt.npy')\n",
    "\n",
    "trainmatrix80d2tnbsmt = np.expand_dims(trainmatrix80d2tnbsmt, axis=3)\n",
    "trvalmatrix80d2tnbsmt = np.expand_dims(trvalmatrix80d2tnbsmt, axis=3)"
   ]
  },
  {
   "cell_type": "code",
   "execution_count": 13,
   "metadata": {
    "colab": {
     "base_uri": "https://localhost:8080/"
    },
    "id": "SA9e5tA6PRj6",
    "outputId": "e32b3022-6aa1-459d-e48d-b255831a838b"
   },
   "outputs": [
    {
     "data": {
      "text/plain": [
       "(80000, 43, 40, 1)"
      ]
     },
     "execution_count": 13,
     "metadata": {},
     "output_type": "execute_result"
    }
   ],
   "source": [
    "trvalmatrix80d2tnbsmt.shape"
   ]
  },
  {
   "cell_type": "code",
   "execution_count": 14,
   "metadata": {
    "colab": {
     "base_uri": "https://localhost:8080/"
    },
    "id": "47VAyd2OXiEg",
    "outputId": "20db33d3-b9fb-4bf9-a8a7-09ccb042a699"
   },
   "outputs": [
    {
     "data": {
      "text/plain": [
       "(80000, 43, 40, 1)"
      ]
     },
     "execution_count": 14,
     "metadata": {},
     "output_type": "execute_result"
    }
   ],
   "source": [
    "trainmatrix80d2tnbsmt.shape"
   ]
  },
  {
   "cell_type": "code",
   "execution_count": 15,
   "metadata": {
    "colab": {
     "base_uri": "https://localhost:8080/"
    },
    "id": "rqscH4qIvOzH",
    "outputId": "5679391e-1861-4aa9-b6dd-eba84212a782"
   },
   "outputs": [
    {
     "data": {
      "text/plain": [
       "1703713.6"
      ]
     },
     "execution_count": 15,
     "metadata": {},
     "output_type": "execute_result"
    }
   ],
   "source": [
    "trvalmatrix80d2tnbsmt.sum()"
   ]
  },
  {
   "cell_type": "code",
   "execution_count": 16,
   "metadata": {
    "colab": {
     "base_uri": "https://localhost:8080/"
    },
    "id": "Ea2EnqWivUEf",
    "outputId": "6da74d68-2f21-4925-ba2e-b29e4018cc98"
   },
   "outputs": [
    {
     "data": {
      "text/plain": [
       "2792270.5"
      ]
     },
     "execution_count": 16,
     "metadata": {},
     "output_type": "execute_result"
    }
   ],
   "source": [
    "trainmatrix80d2tnbsmt.sum()"
   ]
  },
  {
   "cell_type": "code",
   "execution_count": 17,
   "metadata": {
    "id": "V65hXncBcz40"
   },
   "outputs": [],
   "source": [
    "# Increasing the layers to 43 by adding zeros because the above graph definition works if dimensions are equal\n",
    "a = trainmatrix80d2tnbsmt\n",
    "b = trvalmatrix80d2tnbsmt\n",
    "a_tra = np.zeros(shape=(80000, 43, 43, 1))#, dtype=torch.double)\n",
    "b_trv = np.zeros(shape=(80000, 43, 43, 1))\n",
    "a_tra[:a.shape[0], :a.shape[1], :a.shape[2]] = a\n",
    "b_trv[:b.shape[0], :b.shape[1], :b.shape[2]] = b"
   ]
  },
  {
   "cell_type": "code",
   "execution_count": 18,
   "metadata": {
    "colab": {
     "base_uri": "https://localhost:8080/"
    },
    "id": "nwk6bbnEv61S",
    "outputId": "79738fc2-ac23-4859-b501-6b72821e7824"
   },
   "outputs": [
    {
     "data": {
      "text/plain": [
       "2792273.7036363333"
      ]
     },
     "execution_count": 18,
     "metadata": {},
     "output_type": "execute_result"
    }
   ],
   "source": [
    "a_tra.sum()"
   ]
  },
  {
   "cell_type": "code",
   "execution_count": 19,
   "metadata": {
    "colab": {
     "base_uri": "https://localhost:8080/"
    },
    "id": "fDvPpBUT1h_A",
    "outputId": "f3ff05db-59fb-44c9-8da6-d22a55d1ce44"
   },
   "outputs": [
    {
     "data": {
      "text/plain": [
       "1703719.3713912368"
      ]
     },
     "execution_count": 19,
     "metadata": {},
     "output_type": "execute_result"
    }
   ],
   "source": [
    "b_trv.sum()"
   ]
  },
  {
   "cell_type": "code",
   "execution_count": 20,
   "metadata": {
    "colab": {
     "base_uri": "https://localhost:8080/"
    },
    "id": "eBE3EKFoeFJD",
    "outputId": "2b2ee24a-442d-4973-8df3-a16b3790f03a"
   },
   "outputs": [
    {
     "data": {
      "text/plain": [
       "(80000, 43, 43, 1)"
      ]
     },
     "execution_count": 20,
     "metadata": {},
     "output_type": "execute_result"
    }
   ],
   "source": [
    "a_tra.shape"
   ]
  },
  {
   "cell_type": "code",
   "execution_count": 21,
   "metadata": {
    "colab": {
     "base_uri": "https://localhost:8080/"
    },
    "id": "qh9cI4qceIBg",
    "outputId": "786ccde5-ea0b-4f29-9327-744234a34c1d"
   },
   "outputs": [
    {
     "data": {
      "text/plain": [
       "(80000, 43, 43, 1)"
      ]
     },
     "execution_count": 21,
     "metadata": {},
     "output_type": "execute_result"
    }
   ],
   "source": [
    "b_trv.shape"
   ]
  },
  {
   "cell_type": "code",
   "execution_count": 22,
   "metadata": {},
   "outputs": [
    {
     "data": {
      "text/plain": [
       "array([[0., 0., 0., ..., 0., 0., 0.],\n",
       "       [0., 0., 0., ..., 0., 0., 0.],\n",
       "       [0., 0., 0., ..., 0., 0., 0.],\n",
       "       ...,\n",
       "       [0., 0., 0., ..., 0., 0., 0.],\n",
       "       [0., 0., 0., ..., 0., 0., 0.],\n",
       "       [0., 0., 0., ..., 0., 0., 0.]])"
      ]
     },
     "execution_count": 22,
     "metadata": {},
     "output_type": "execute_result"
    }
   ],
   "source": [
    "a221 = a_tra.reshape(80000, 43,43)\n",
    "a221[1]"
   ]
  },
  {
   "cell_type": "code",
   "execution_count": 23,
   "metadata": {},
   "outputs": [],
   "source": [
    "import matplotlib.pyplot as plt\n",
    "#plt.matshow(a221[1])"
   ]
  },
  {
   "cell_type": "code",
   "execution_count": 24,
   "metadata": {},
   "outputs": [
    {
     "data": {
      "text/plain": [
       "'TraEvN = 8000\\nxnodes = torch.tensor(np.zeros(shape=(TraEvN, 1849, 4)), dtype=torch.double).to(device)\\nfor i in range(TraEvN):\\n    for j in range(1849):\\n        #node id\\n        xnodes[i][j][0] = j\\n        #cell\\n        xnodes[i][j][1] = j % 43\\n        #layer\\n        xnodes[i][j][2] = j // 43\\n        #normalized time\\n        xnodes[i][j][3] = a_tra.reshape(80000, 43, 43)[i][j % 43][j // 43]'"
      ]
     },
     "execution_count": 24,
     "metadata": {},
     "output_type": "execute_result"
    }
   ],
   "source": [
    "'''TraEvN = 8000\n",
    "xnodes = torch.tensor(np.zeros(shape=(TraEvN, 1849, 4)), dtype=torch.double).to(device)\n",
    "for i in range(TraEvN):\n",
    "    for j in range(1849):\n",
    "        #node id\n",
    "        xnodes[i][j][0] = j\n",
    "        #cell\n",
    "        xnodes[i][j][1] = j % 43\n",
    "        #layer\n",
    "        xnodes[i][j][2] = j // 43\n",
    "        #normalized time\n",
    "        xnodes[i][j][3] = a_tra.reshape(80000, 43, 43)[i][j % 43][j // 43]'''"
   ]
  },
  {
   "cell_type": "code",
   "execution_count": 25,
   "metadata": {},
   "outputs": [],
   "source": [
    "import torch\n",
    "#torch.save(xnodes, './xnodes.pt')\n",
    "xnodes = torch.load('xnodes.pt')"
   ]
  },
  {
   "cell_type": "code",
   "execution_count": 26,
   "metadata": {},
   "outputs": [
    {
     "data": {
      "text/plain": [
       "tensor([50.,  7.,  1.,  0.], device='cuda:0', dtype=torch.float64)"
      ]
     },
     "execution_count": 26,
     "metadata": {},
     "output_type": "execute_result"
    }
   ],
   "source": [
    "xnodes[0][50]"
   ]
  },
  {
   "cell_type": "code",
   "execution_count": 27,
   "metadata": {},
   "outputs": [
    {
     "data": {
      "text/plain": [
       "torch.Size([8000, 1849, 4])"
      ]
     },
     "execution_count": 27,
     "metadata": {},
     "output_type": "execute_result"
    }
   ],
   "source": [
    "xnodes.shape"
   ]
  },
  {
   "cell_type": "code",
   "execution_count": 28,
   "metadata": {},
   "outputs": [],
   "source": [
    "xnodes2 = xnodes[:,:,1:4]"
   ]
  },
  {
   "cell_type": "code",
   "execution_count": 29,
   "metadata": {},
   "outputs": [
    {
     "data": {
      "text/plain": [
       "torch.Size([8000, 1849, 3])"
      ]
     },
     "execution_count": 29,
     "metadata": {},
     "output_type": "execute_result"
    }
   ],
   "source": [
    "xnodes2.shape"
   ]
  },
  {
   "cell_type": "code",
   "execution_count": 30,
   "metadata": {},
   "outputs": [
    {
     "data": {
      "text/plain": [
       "tensor([[[ 0.0000,  0.0000,  0.0000],\n",
       "         [ 1.0000,  0.0000,  0.0000],\n",
       "         [ 2.0000,  0.0000,  0.6405],\n",
       "         ...,\n",
       "         [40.0000, 42.0000,  0.0000],\n",
       "         [41.0000, 42.0000,  0.0000],\n",
       "         [42.0000, 42.0000,  0.0000]],\n",
       "\n",
       "        [[ 0.0000,  0.0000,  0.0000],\n",
       "         [ 1.0000,  0.0000,  0.0000],\n",
       "         [ 2.0000,  0.0000,  0.0000],\n",
       "         ...,\n",
       "         [40.0000, 42.0000,  0.0000],\n",
       "         [41.0000, 42.0000,  0.0000],\n",
       "         [42.0000, 42.0000,  0.0000]],\n",
       "\n",
       "        [[ 0.0000,  0.0000,  0.3053],\n",
       "         [ 1.0000,  0.0000,  0.2671],\n",
       "         [ 2.0000,  0.0000,  0.5573],\n",
       "         ...,\n",
       "         [40.0000, 42.0000,  0.0000],\n",
       "         [41.0000, 42.0000,  0.0000],\n",
       "         [42.0000, 42.0000,  0.0000]],\n",
       "\n",
       "        ...,\n",
       "\n",
       "        [[ 0.0000,  0.0000,  0.0000],\n",
       "         [ 1.0000,  0.0000,  0.2886],\n",
       "         [ 2.0000,  0.0000,  0.2889],\n",
       "         ...,\n",
       "         [40.0000, 42.0000,  0.0000],\n",
       "         [41.0000, 42.0000,  0.0000],\n",
       "         [42.0000, 42.0000,  0.0000]],\n",
       "\n",
       "        [[ 0.0000,  0.0000,  0.4678],\n",
       "         [ 1.0000,  0.0000,  0.0000],\n",
       "         [ 2.0000,  0.0000,  0.4575],\n",
       "         ...,\n",
       "         [40.0000, 42.0000,  0.0000],\n",
       "         [41.0000, 42.0000,  0.0000],\n",
       "         [42.0000, 42.0000,  0.0000]],\n",
       "\n",
       "        [[ 0.0000,  0.0000,  0.0000],\n",
       "         [ 1.0000,  0.0000,  0.3643],\n",
       "         [ 2.0000,  0.0000,  0.2869],\n",
       "         ...,\n",
       "         [40.0000, 42.0000,  0.0000],\n",
       "         [41.0000, 42.0000,  0.0000],\n",
       "         [42.0000, 42.0000,  0.0000]]], device='cuda:0', dtype=torch.float64)"
      ]
     },
     "execution_count": 30,
     "metadata": {},
     "output_type": "execute_result"
    }
   ],
   "source": [
    "xnodes2"
   ]
  },
  {
   "cell_type": "code",
   "execution_count": 31,
   "metadata": {},
   "outputs": [
    {
     "data": {
      "text/plain": [
       "tensor([[[0.0000e+00, 0.0000e+00, 0.0000e+00, 0.0000e+00],\n",
       "         [1.0000e+00, 1.0000e+00, 0.0000e+00, 0.0000e+00],\n",
       "         [2.0000e+00, 2.0000e+00, 0.0000e+00, 6.4050e-01],\n",
       "         ...,\n",
       "         [1.8460e+03, 4.0000e+01, 4.2000e+01, 0.0000e+00],\n",
       "         [1.8470e+03, 4.1000e+01, 4.2000e+01, 0.0000e+00],\n",
       "         [1.8480e+03, 4.2000e+01, 4.2000e+01, 0.0000e+00]],\n",
       "\n",
       "        [[0.0000e+00, 0.0000e+00, 0.0000e+00, 0.0000e+00],\n",
       "         [1.0000e+00, 1.0000e+00, 0.0000e+00, 0.0000e+00],\n",
       "         [2.0000e+00, 2.0000e+00, 0.0000e+00, 0.0000e+00],\n",
       "         ...,\n",
       "         [1.8460e+03, 4.0000e+01, 4.2000e+01, 0.0000e+00],\n",
       "         [1.8470e+03, 4.1000e+01, 4.2000e+01, 0.0000e+00],\n",
       "         [1.8480e+03, 4.2000e+01, 4.2000e+01, 0.0000e+00]]], device='cuda:0',\n",
       "       dtype=torch.float64)"
      ]
     },
     "execution_count": 31,
     "metadata": {},
     "output_type": "execute_result"
    }
   ],
   "source": [
    "xnodes[0:2]"
   ]
  },
  {
   "cell_type": "code",
   "execution_count": 32,
   "metadata": {},
   "outputs": [],
   "source": [
    "b221 = b_trv.reshape(80000, 43*43)\n",
    "#plt.matshow(b221[1].reshape(43, 43))"
   ]
  },
  {
   "cell_type": "markdown",
   "metadata": {
    "id": "5H8tfXQkG7JT"
   },
   "source": [
    "# The model"
   ]
  },
  {
   "cell_type": "code",
   "execution_count": 33,
   "metadata": {
    "colab": {
     "base_uri": "https://localhost:8080/"
    },
    "id": "zihkE_fQl0Wq",
    "outputId": "f7996245-2143-4906-9665-a4e662e53c0f"
   },
   "outputs": [
    {
     "name": "stdout",
     "output_type": "stream",
     "text": [
      "GCN(\n",
      "  (conv1): GCNConv(3, 256)\n",
      "  (conv2): GCNConv(256, 128)\n",
      "  (conv3): GCNConv(128, 64)\n",
      "  (conv4): GCNConv(64, 1)\n",
      ")\n"
     ]
    }
   ],
   "source": [
    "import torch\n",
    "from torch.nn import Linear\n",
    "from torch_geometric.nn import GCNConv\n",
    "import torch.nn.functional as F\n",
    "\n",
    "\n",
    "class GCN(torch.nn.Module):\n",
    "    def __init__(self):        \n",
    "        super(GCN, self).__init__()\n",
    "        self.conv1 = GCNConv(3, 256)\n",
    "        self.conv2 = GCNConv(256, 128)\n",
    "        self.conv3 = GCNConv(128, 64)\n",
    "        self.conv4 = GCNConv(64, 1)\n",
    "        #self.Linear = Linear(2, 1)\n",
    "        #self.classifier = Linear(2, 1)\n",
    "\n",
    "#        self.conv4 = GCNConv(64, 1849)        #self.Linear = Linear(16, 1600)\n",
    "\n",
    "    def forward(self, x, edge_index):\n",
    "        x = self.conv1(x, edge_index)\n",
    "        x = F.relu(x)\n",
    "        x = self.conv2(x, edge_index)\n",
    "        x = F.relu(x)\n",
    "        x = self.conv3(x, edge_index)\n",
    "        x = F.relu(x)\n",
    "        x = self.conv4(x, edge_index)\n",
    "#        x = F.relu(x)\n",
    "#        x = self.Linear(x)\n",
    "        x = F.sigmoid(x)  \n",
    "        return x\n",
    "\n",
    "model = GCN()\n",
    "print(model)"
   ]
  },
  {
   "cell_type": "code",
   "execution_count": 34,
   "metadata": {},
   "outputs": [
    {
     "data": {
      "text/plain": [
       "GCN(\n",
       "  (conv1): GCNConv(3, 256)\n",
       "  (conv2): GCNConv(256, 128)\n",
       "  (conv3): GCNConv(128, 64)\n",
       "  (conv4): GCNConv(64, 1)\n",
       ")"
      ]
     },
     "execution_count": 34,
     "metadata": {},
     "output_type": "execute_result"
    }
   ],
   "source": [
    "model.double().to(device)"
   ]
  },
  {
   "cell_type": "code",
   "execution_count": 35,
   "metadata": {},
   "outputs": [
    {
     "name": "stderr",
     "output_type": "stream",
     "text": [
      "<ipython-input-35-b5184a811d1d>:2: UserWarning: To copy construct from a tensor, it is recommended to use sourceTensor.clone().detach() or sourceTensor.clone().detach().requires_grad_(True), rather than torch.tensor(sourceTensor).\n",
      "  x1 = torch.tensor(xnodes2[20:22])\n"
     ]
    },
    {
     "data": {
      "text/plain": [
       "tensor([[[ 0.,  0.,  0.],\n",
       "         [ 1.,  0.,  0.],\n",
       "         [ 2.,  0.,  0.],\n",
       "         ...,\n",
       "         [40., 42.,  0.],\n",
       "         [41., 42.,  0.],\n",
       "         [42., 42.,  0.]],\n",
       "\n",
       "        [[ 0.,  0.,  0.],\n",
       "         [ 1.,  0.,  0.],\n",
       "         [ 2.,  0.,  0.],\n",
       "         ...,\n",
       "         [40., 42.,  0.],\n",
       "         [41., 42.,  0.],\n",
       "         [42., 42.,  0.]]], device='cuda:0', dtype=torch.float64)"
      ]
     },
     "execution_count": 35,
     "metadata": {},
     "output_type": "execute_result"
    }
   ],
   "source": [
    "#Passing a sample data befor training\n",
    "x1 = torch.tensor(xnodes2[20:22])\n",
    "data = Data(x=x1, edge_index=edge_index)\n",
    "x1"
   ]
  },
  {
   "cell_type": "code",
   "execution_count": 36,
   "metadata": {},
   "outputs": [
    {
     "data": {
      "text/plain": [
       "torch.Size([2, 1849, 3])"
      ]
     },
     "execution_count": 36,
     "metadata": {},
     "output_type": "execute_result"
    }
   ],
   "source": [
    "x1.shape"
   ]
  },
  {
   "cell_type": "code",
   "execution_count": 54,
   "metadata": {
    "scrolled": false
   },
   "outputs": [
    {
     "data": {
      "text/plain": [
       "tensor(158, device='cuda:0')"
      ]
     },
     "execution_count": 54,
     "metadata": {},
     "output_type": "execute_result"
    }
   ],
   "source": [
    "(model(data.x.to(device), data.edge_index.to(device))[0]>0.053).sum()"
   ]
  },
  {
   "cell_type": "code",
   "execution_count": 38,
   "metadata": {},
   "outputs": [
    {
     "data": {
      "text/plain": [
       "tensor(80)"
      ]
     },
     "execution_count": 38,
     "metadata": {},
     "output_type": "execute_result"
    }
   ],
   "source": [
    "(torch.tensor(b221[4000]) > 0).sum()"
   ]
  },
  {
   "cell_type": "markdown",
   "metadata": {
    "id": "w7XC7iwfG_w6"
   },
   "source": [
    "# Training"
   ]
  },
  {
   "cell_type": "code",
   "execution_count": 39,
   "metadata": {
    "scrolled": true
   },
   "outputs": [
    {
     "name": "stderr",
     "output_type": "stream",
     "text": [
      "<ipython-input-39-673ad9ddfacc>:12: UserWarning: To copy construct from a tensor, it is recommended to use sourceTensor.clone().detach() or sourceTensor.clone().detach().requires_grad_(True), rather than torch.tensor(sourceTensor).\n",
      "  xi = torch.tensor(xnodes2[i * BachSize : (i + 1) * BachSize])\n"
     ]
    },
    {
     "name": "stdout",
     "output_type": "stream",
     "text": [
      "epoch: 0 batch: 0 loss: tensor(0.5772, device='cuda:0', dtype=torch.float64,\n",
      "       grad_fn=<BinaryCrossEntropyBackward>)\n",
      "epoch: 0 batch: 50 loss: tensor(0.1718, device='cuda:0', dtype=torch.float64,\n",
      "       grad_fn=<BinaryCrossEntropyBackward>)\n",
      "epoch: 0 batch: 100 loss: tensor(0.1684, device='cuda:0', dtype=torch.float64,\n",
      "       grad_fn=<BinaryCrossEntropyBackward>)\n",
      "epoch: 0 batch: 150 loss: tensor(0.1509, device='cuda:0', dtype=torch.float64,\n",
      "       grad_fn=<BinaryCrossEntropyBackward>)\n",
      "epoch: 0 batch: 200 loss: tensor(0.1618, device='cuda:0', dtype=torch.float64,\n",
      "       grad_fn=<BinaryCrossEntropyBackward>)\n",
      "epoch: 0 batch: 250 loss: tensor(0.1641, device='cuda:0', dtype=torch.float64,\n",
      "       grad_fn=<BinaryCrossEntropyBackward>)\n",
      "epoch: 0 batch: 300 loss: tensor(0.1517, device='cuda:0', dtype=torch.float64,\n",
      "       grad_fn=<BinaryCrossEntropyBackward>)\n",
      "epoch: 0 batch: 350 loss: tensor(0.1525, device='cuda:0', dtype=torch.float64,\n",
      "       grad_fn=<BinaryCrossEntropyBackward>)\n",
      "epoch: 0 batch: 400 loss: tensor(0.1544, device='cuda:0', dtype=torch.float64,\n",
      "       grad_fn=<BinaryCrossEntropyBackward>)\n",
      "epoch: 0 batch: 450 loss: tensor(0.1732, device='cuda:0', dtype=torch.float64,\n",
      "       grad_fn=<BinaryCrossEntropyBackward>)\n",
      "epoch: 0 batch: 500 loss: tensor(0.1635, device='cuda:0', dtype=torch.float64,\n",
      "       grad_fn=<BinaryCrossEntropyBackward>)\n",
      "epoch: 0 batch: 550 loss: tensor(0.1509, device='cuda:0', dtype=torch.float64,\n",
      "       grad_fn=<BinaryCrossEntropyBackward>)\n",
      "epoch: 0 batch: 600 loss: tensor(0.1577, device='cuda:0', dtype=torch.float64,\n",
      "       grad_fn=<BinaryCrossEntropyBackward>)\n",
      "epoch: 0 batch: 650 loss: tensor(0.1578, device='cuda:0', dtype=torch.float64,\n",
      "       grad_fn=<BinaryCrossEntropyBackward>)\n",
      "epoch: 0 batch: 700 loss: tensor(0.1480, device='cuda:0', dtype=torch.float64,\n",
      "       grad_fn=<BinaryCrossEntropyBackward>)\n",
      "epoch: 0 batch: 750 loss: tensor(0.1501, device='cuda:0', dtype=torch.float64,\n",
      "       grad_fn=<BinaryCrossEntropyBackward>)\n",
      "epoch: 0 mean loss: tensor(0.0185, device='cuda:0', dtype=torch.float64, grad_fn=<DivBackward0>)\n",
      "epoch: 1 batch: 0 loss: tensor(0.1563, device='cuda:0', dtype=torch.float64,\n",
      "       grad_fn=<BinaryCrossEntropyBackward>)\n",
      "epoch: 1 batch: 50 loss: tensor(0.1523, device='cuda:0', dtype=torch.float64,\n",
      "       grad_fn=<BinaryCrossEntropyBackward>)\n",
      "epoch: 1 batch: 100 loss: tensor(0.1634, device='cuda:0', dtype=torch.float64,\n",
      "       grad_fn=<BinaryCrossEntropyBackward>)\n",
      "epoch: 1 batch: 150 loss: tensor(0.1497, device='cuda:0', dtype=torch.float64,\n",
      "       grad_fn=<BinaryCrossEntropyBackward>)\n",
      "epoch: 1 batch: 200 loss: tensor(0.1610, device='cuda:0', dtype=torch.float64,\n",
      "       grad_fn=<BinaryCrossEntropyBackward>)\n",
      "epoch: 1 batch: 250 loss: tensor(0.1631, device='cuda:0', dtype=torch.float64,\n",
      "       grad_fn=<BinaryCrossEntropyBackward>)\n",
      "epoch: 1 batch: 300 loss: tensor(0.1504, device='cuda:0', dtype=torch.float64,\n",
      "       grad_fn=<BinaryCrossEntropyBackward>)\n",
      "epoch: 1 batch: 350 loss: tensor(0.1511, device='cuda:0', dtype=torch.float64,\n",
      "       grad_fn=<BinaryCrossEntropyBackward>)\n",
      "epoch: 1 batch: 400 loss: tensor(0.1539, device='cuda:0', dtype=torch.float64,\n",
      "       grad_fn=<BinaryCrossEntropyBackward>)\n",
      "epoch: 1 batch: 450 loss: tensor(0.1711, device='cuda:0', dtype=torch.float64,\n",
      "       grad_fn=<BinaryCrossEntropyBackward>)\n",
      "epoch: 1 batch: 500 loss: tensor(0.1634, device='cuda:0', dtype=torch.float64,\n",
      "       grad_fn=<BinaryCrossEntropyBackward>)\n",
      "epoch: 1 batch: 550 loss: tensor(0.1503, device='cuda:0', dtype=torch.float64,\n",
      "       grad_fn=<BinaryCrossEntropyBackward>)\n",
      "epoch: 1 batch: 600 loss: tensor(0.1573, device='cuda:0', dtype=torch.float64,\n",
      "       grad_fn=<BinaryCrossEntropyBackward>)\n",
      "epoch: 1 batch: 650 loss: tensor(0.1569, device='cuda:0', dtype=torch.float64,\n",
      "       grad_fn=<BinaryCrossEntropyBackward>)\n",
      "epoch: 1 batch: 700 loss: tensor(0.1477, device='cuda:0', dtype=torch.float64,\n",
      "       grad_fn=<BinaryCrossEntropyBackward>)\n",
      "epoch: 1 batch: 750 loss: tensor(0.1504, device='cuda:0', dtype=torch.float64,\n",
      "       grad_fn=<BinaryCrossEntropyBackward>)\n",
      "epoch: 1 mean loss: tensor(0.0341, device='cuda:0', dtype=torch.float64, grad_fn=<DivBackward0>)\n",
      "epoch: 2 batch: 0 loss: tensor(0.1556, device='cuda:0', dtype=torch.float64,\n",
      "       grad_fn=<BinaryCrossEntropyBackward>)\n",
      "epoch: 2 batch: 50 loss: tensor(0.1520, device='cuda:0', dtype=torch.float64,\n",
      "       grad_fn=<BinaryCrossEntropyBackward>)\n",
      "epoch: 2 batch: 100 loss: tensor(0.1631, device='cuda:0', dtype=torch.float64,\n",
      "       grad_fn=<BinaryCrossEntropyBackward>)\n",
      "epoch: 2 batch: 150 loss: tensor(0.1498, device='cuda:0', dtype=torch.float64,\n",
      "       grad_fn=<BinaryCrossEntropyBackward>)\n",
      "epoch: 2 batch: 200 loss: tensor(0.1612, device='cuda:0', dtype=torch.float64,\n",
      "       grad_fn=<BinaryCrossEntropyBackward>)\n",
      "epoch: 2 batch: 250 loss: tensor(0.1628, device='cuda:0', dtype=torch.float64,\n",
      "       grad_fn=<BinaryCrossEntropyBackward>)\n",
      "epoch: 2 batch: 300 loss: tensor(0.1505, device='cuda:0', dtype=torch.float64,\n",
      "       grad_fn=<BinaryCrossEntropyBackward>)\n",
      "epoch: 2 batch: 350 loss: tensor(0.1513, device='cuda:0', dtype=torch.float64,\n",
      "       grad_fn=<BinaryCrossEntropyBackward>)\n",
      "epoch: 2 batch: 400 loss: tensor(0.1539, device='cuda:0', dtype=torch.float64,\n",
      "       grad_fn=<BinaryCrossEntropyBackward>)\n",
      "epoch: 2 batch: 450 loss: tensor(0.1715, device='cuda:0', dtype=torch.float64,\n",
      "       grad_fn=<BinaryCrossEntropyBackward>)\n",
      "epoch: 2 batch: 500 loss: tensor(0.1632, device='cuda:0', dtype=torch.float64,\n",
      "       grad_fn=<BinaryCrossEntropyBackward>)\n",
      "epoch: 2 batch: 550 loss: tensor(0.1505, device='cuda:0', dtype=torch.float64,\n",
      "       grad_fn=<BinaryCrossEntropyBackward>)\n",
      "epoch: 2 batch: 600 loss: tensor(0.1574, device='cuda:0', dtype=torch.float64,\n",
      "       grad_fn=<BinaryCrossEntropyBackward>)\n",
      "epoch: 2 batch: 650 loss: tensor(0.1569, device='cuda:0', dtype=torch.float64,\n",
      "       grad_fn=<BinaryCrossEntropyBackward>)\n",
      "epoch: 2 batch: 700 loss: tensor(0.1487, device='cuda:0', dtype=torch.float64,\n",
      "       grad_fn=<BinaryCrossEntropyBackward>)\n",
      "epoch: 2 batch: 750 loss: tensor(0.1503, device='cuda:0', dtype=torch.float64,\n",
      "       grad_fn=<BinaryCrossEntropyBackward>)\n",
      "epoch: 2 mean loss: tensor(0.0497, device='cuda:0', dtype=torch.float64, grad_fn=<DivBackward0>)\n",
      "epoch: 3 batch: 0 loss: tensor(0.1556, device='cuda:0', dtype=torch.float64,\n",
      "       grad_fn=<BinaryCrossEntropyBackward>)\n",
      "epoch: 3 batch: 50 loss: tensor(0.1519, device='cuda:0', dtype=torch.float64,\n",
      "       grad_fn=<BinaryCrossEntropyBackward>)\n",
      "epoch: 3 batch: 100 loss: tensor(0.1632, device='cuda:0', dtype=torch.float64,\n",
      "       grad_fn=<BinaryCrossEntropyBackward>)\n",
      "epoch: 3 batch: 150 loss: tensor(0.1498, device='cuda:0', dtype=torch.float64,\n",
      "       grad_fn=<BinaryCrossEntropyBackward>)\n",
      "epoch: 3 batch: 200 loss: tensor(0.1614, device='cuda:0', dtype=torch.float64,\n",
      "       grad_fn=<BinaryCrossEntropyBackward>)\n",
      "epoch: 3 batch: 250 loss: tensor(0.1629, device='cuda:0', dtype=torch.float64,\n",
      "       grad_fn=<BinaryCrossEntropyBackward>)\n",
      "epoch: 3 batch: 300 loss: tensor(0.1505, device='cuda:0', dtype=torch.float64,\n",
      "       grad_fn=<BinaryCrossEntropyBackward>)\n",
      "epoch: 3 batch: 350 loss: tensor(0.1511, device='cuda:0', dtype=torch.float64,\n",
      "       grad_fn=<BinaryCrossEntropyBackward>)\n",
      "epoch: 3 batch: 400 loss: tensor(0.1539, device='cuda:0', dtype=torch.float64,\n",
      "       grad_fn=<BinaryCrossEntropyBackward>)\n",
      "epoch: 3 batch: 450 loss: tensor(0.1707, device='cuda:0', dtype=torch.float64,\n",
      "       grad_fn=<BinaryCrossEntropyBackward>)\n",
      "epoch: 3 batch: 500 loss: tensor(0.1628, device='cuda:0', dtype=torch.float64,\n",
      "       grad_fn=<BinaryCrossEntropyBackward>)\n",
      "epoch: 3 batch: 550 loss: tensor(0.1504, device='cuda:0', dtype=torch.float64,\n",
      "       grad_fn=<BinaryCrossEntropyBackward>)\n",
      "epoch: 3 batch: 600 loss: tensor(0.1573, device='cuda:0', dtype=torch.float64,\n",
      "       grad_fn=<BinaryCrossEntropyBackward>)\n",
      "epoch: 3 batch: 650 loss: tensor(0.1567, device='cuda:0', dtype=torch.float64,\n",
      "       grad_fn=<BinaryCrossEntropyBackward>)\n",
      "epoch: 3 batch: 700 loss: tensor(0.1486, device='cuda:0', dtype=torch.float64,\n",
      "       grad_fn=<BinaryCrossEntropyBackward>)\n",
      "epoch: 3 batch: 750 loss: tensor(0.1500, device='cuda:0', dtype=torch.float64,\n",
      "       grad_fn=<BinaryCrossEntropyBackward>)\n"
     ]
    },
    {
     "name": "stdout",
     "output_type": "stream",
     "text": [
      "epoch: 3 mean loss: tensor(0.0653, device='cuda:0', dtype=torch.float64, grad_fn=<DivBackward0>)\n",
      "epoch: 4 batch: 0 loss: tensor(0.1551, device='cuda:0', dtype=torch.float64,\n",
      "       grad_fn=<BinaryCrossEntropyBackward>)\n",
      "epoch: 4 batch: 50 loss: tensor(0.1516, device='cuda:0', dtype=torch.float64,\n",
      "       grad_fn=<BinaryCrossEntropyBackward>)\n",
      "epoch: 4 batch: 100 loss: tensor(0.1629, device='cuda:0', dtype=torch.float64,\n",
      "       grad_fn=<BinaryCrossEntropyBackward>)\n",
      "epoch: 4 batch: 150 loss: tensor(0.1496, device='cuda:0', dtype=torch.float64,\n",
      "       grad_fn=<BinaryCrossEntropyBackward>)\n",
      "epoch: 4 batch: 200 loss: tensor(0.1616, device='cuda:0', dtype=torch.float64,\n",
      "       grad_fn=<BinaryCrossEntropyBackward>)\n",
      "epoch: 4 batch: 250 loss: tensor(0.1626, device='cuda:0', dtype=torch.float64,\n",
      "       grad_fn=<BinaryCrossEntropyBackward>)\n",
      "epoch: 4 batch: 300 loss: tensor(0.1505, device='cuda:0', dtype=torch.float64,\n",
      "       grad_fn=<BinaryCrossEntropyBackward>)\n",
      "epoch: 4 batch: 350 loss: tensor(0.1511, device='cuda:0', dtype=torch.float64,\n",
      "       grad_fn=<BinaryCrossEntropyBackward>)\n",
      "epoch: 4 batch: 400 loss: tensor(0.1539, device='cuda:0', dtype=torch.float64,\n",
      "       grad_fn=<BinaryCrossEntropyBackward>)\n",
      "epoch: 4 batch: 450 loss: tensor(0.1707, device='cuda:0', dtype=torch.float64,\n",
      "       grad_fn=<BinaryCrossEntropyBackward>)\n",
      "epoch: 4 batch: 500 loss: tensor(0.1627, device='cuda:0', dtype=torch.float64,\n",
      "       grad_fn=<BinaryCrossEntropyBackward>)\n",
      "epoch: 4 batch: 550 loss: tensor(0.1504, device='cuda:0', dtype=torch.float64,\n",
      "       grad_fn=<BinaryCrossEntropyBackward>)\n",
      "epoch: 4 batch: 600 loss: tensor(0.1573, device='cuda:0', dtype=torch.float64,\n",
      "       grad_fn=<BinaryCrossEntropyBackward>)\n",
      "epoch: 4 batch: 650 loss: tensor(0.1566, device='cuda:0', dtype=torch.float64,\n",
      "       grad_fn=<BinaryCrossEntropyBackward>)\n",
      "epoch: 4 batch: 700 loss: tensor(0.1487, device='cuda:0', dtype=torch.float64,\n",
      "       grad_fn=<BinaryCrossEntropyBackward>)\n",
      "epoch: 4 batch: 750 loss: tensor(0.1501, device='cuda:0', dtype=torch.float64,\n",
      "       grad_fn=<BinaryCrossEntropyBackward>)\n",
      "epoch: 4 mean loss: tensor(0.0809, device='cuda:0', dtype=torch.float64, grad_fn=<DivBackward0>)\n",
      "epoch: 5 batch: 0 loss: tensor(0.1548, device='cuda:0', dtype=torch.float64,\n",
      "       grad_fn=<BinaryCrossEntropyBackward>)\n",
      "epoch: 5 batch: 50 loss: tensor(0.1515, device='cuda:0', dtype=torch.float64,\n",
      "       grad_fn=<BinaryCrossEntropyBackward>)\n",
      "epoch: 5 batch: 100 loss: tensor(0.1630, device='cuda:0', dtype=torch.float64,\n",
      "       grad_fn=<BinaryCrossEntropyBackward>)\n",
      "epoch: 5 batch: 150 loss: tensor(0.1496, device='cuda:0', dtype=torch.float64,\n",
      "       grad_fn=<BinaryCrossEntropyBackward>)\n",
      "epoch: 5 batch: 200 loss: tensor(0.1616, device='cuda:0', dtype=torch.float64,\n",
      "       grad_fn=<BinaryCrossEntropyBackward>)\n",
      "epoch: 5 batch: 250 loss: tensor(0.1625, device='cuda:0', dtype=torch.float64,\n",
      "       grad_fn=<BinaryCrossEntropyBackward>)\n",
      "epoch: 5 batch: 300 loss: tensor(0.1505, device='cuda:0', dtype=torch.float64,\n",
      "       grad_fn=<BinaryCrossEntropyBackward>)\n",
      "epoch: 5 batch: 350 loss: tensor(0.1511, device='cuda:0', dtype=torch.float64,\n",
      "       grad_fn=<BinaryCrossEntropyBackward>)\n",
      "epoch: 5 batch: 400 loss: tensor(0.1539, device='cuda:0', dtype=torch.float64,\n",
      "       grad_fn=<BinaryCrossEntropyBackward>)\n",
      "epoch: 5 batch: 450 loss: tensor(0.1711, device='cuda:0', dtype=torch.float64,\n",
      "       grad_fn=<BinaryCrossEntropyBackward>)\n",
      "epoch: 5 batch: 500 loss: tensor(0.1626, device='cuda:0', dtype=torch.float64,\n",
      "       grad_fn=<BinaryCrossEntropyBackward>)\n",
      "epoch: 5 batch: 550 loss: tensor(0.1503, device='cuda:0', dtype=torch.float64,\n",
      "       grad_fn=<BinaryCrossEntropyBackward>)\n",
      "epoch: 5 batch: 600 loss: tensor(0.1573, device='cuda:0', dtype=torch.float64,\n",
      "       grad_fn=<BinaryCrossEntropyBackward>)\n",
      "epoch: 5 batch: 650 loss: tensor(0.1566, device='cuda:0', dtype=torch.float64,\n",
      "       grad_fn=<BinaryCrossEntropyBackward>)\n",
      "epoch: 5 batch: 700 loss: tensor(0.1490, device='cuda:0', dtype=torch.float64,\n",
      "       grad_fn=<BinaryCrossEntropyBackward>)\n",
      "epoch: 5 batch: 750 loss: tensor(0.1499, device='cuda:0', dtype=torch.float64,\n",
      "       grad_fn=<BinaryCrossEntropyBackward>)\n",
      "epoch: 5 mean loss: tensor(0.0965, device='cuda:0', dtype=torch.float64, grad_fn=<DivBackward0>)\n",
      "epoch: 6 batch: 0 loss: tensor(0.1547, device='cuda:0', dtype=torch.float64,\n",
      "       grad_fn=<BinaryCrossEntropyBackward>)\n",
      "epoch: 6 batch: 50 loss: tensor(0.1519, device='cuda:0', dtype=torch.float64,\n",
      "       grad_fn=<BinaryCrossEntropyBackward>)\n",
      "epoch: 6 batch: 100 loss: tensor(0.1630, device='cuda:0', dtype=torch.float64,\n",
      "       grad_fn=<BinaryCrossEntropyBackward>)\n",
      "epoch: 6 batch: 150 loss: tensor(0.1494, device='cuda:0', dtype=torch.float64,\n",
      "       grad_fn=<BinaryCrossEntropyBackward>)\n",
      "epoch: 6 batch: 200 loss: tensor(0.1611, device='cuda:0', dtype=torch.float64,\n",
      "       grad_fn=<BinaryCrossEntropyBackward>)\n",
      "epoch: 6 batch: 250 loss: tensor(0.1625, device='cuda:0', dtype=torch.float64,\n",
      "       grad_fn=<BinaryCrossEntropyBackward>)\n",
      "epoch: 6 batch: 300 loss: tensor(0.1506, device='cuda:0', dtype=torch.float64,\n",
      "       grad_fn=<BinaryCrossEntropyBackward>)\n",
      "epoch: 6 batch: 350 loss: tensor(0.1513, device='cuda:0', dtype=torch.float64,\n",
      "       grad_fn=<BinaryCrossEntropyBackward>)\n",
      "epoch: 6 batch: 400 loss: tensor(0.1539, device='cuda:0', dtype=torch.float64,\n",
      "       grad_fn=<BinaryCrossEntropyBackward>)\n",
      "epoch: 6 batch: 450 loss: tensor(0.1700, device='cuda:0', dtype=torch.float64,\n",
      "       grad_fn=<BinaryCrossEntropyBackward>)\n",
      "epoch: 6 batch: 500 loss: tensor(0.1626, device='cuda:0', dtype=torch.float64,\n",
      "       grad_fn=<BinaryCrossEntropyBackward>)\n",
      "epoch: 6 batch: 550 loss: tensor(0.1504, device='cuda:0', dtype=torch.float64,\n",
      "       grad_fn=<BinaryCrossEntropyBackward>)\n",
      "epoch: 6 batch: 600 loss: tensor(0.1574, device='cuda:0', dtype=torch.float64,\n",
      "       grad_fn=<BinaryCrossEntropyBackward>)\n",
      "epoch: 6 batch: 650 loss: tensor(0.1566, device='cuda:0', dtype=torch.float64,\n",
      "       grad_fn=<BinaryCrossEntropyBackward>)\n",
      "epoch: 6 batch: 700 loss: tensor(0.1491, device='cuda:0', dtype=torch.float64,\n",
      "       grad_fn=<BinaryCrossEntropyBackward>)\n",
      "epoch: 6 batch: 750 loss: tensor(0.1501, device='cuda:0', dtype=torch.float64,\n",
      "       grad_fn=<BinaryCrossEntropyBackward>)\n",
      "epoch: 6 mean loss: tensor(0.1121, device='cuda:0', dtype=torch.float64, grad_fn=<DivBackward0>)\n",
      "epoch: 7 batch: 0 loss: tensor(0.1545, device='cuda:0', dtype=torch.float64,\n",
      "       grad_fn=<BinaryCrossEntropyBackward>)\n",
      "epoch: 7 batch: 50 loss: tensor(0.1514, device='cuda:0', dtype=torch.float64,\n",
      "       grad_fn=<BinaryCrossEntropyBackward>)\n",
      "epoch: 7 batch: 100 loss: tensor(0.1630, device='cuda:0', dtype=torch.float64,\n",
      "       grad_fn=<BinaryCrossEntropyBackward>)\n",
      "epoch: 7 batch: 150 loss: tensor(0.1497, device='cuda:0', dtype=torch.float64,\n",
      "       grad_fn=<BinaryCrossEntropyBackward>)\n",
      "epoch: 7 batch: 200 loss: tensor(0.1612, device='cuda:0', dtype=torch.float64,\n",
      "       grad_fn=<BinaryCrossEntropyBackward>)\n",
      "epoch: 7 batch: 250 loss: tensor(0.1626, device='cuda:0', dtype=torch.float64,\n",
      "       grad_fn=<BinaryCrossEntropyBackward>)\n",
      "epoch: 7 batch: 300 loss: tensor(0.1505, device='cuda:0', dtype=torch.float64,\n",
      "       grad_fn=<BinaryCrossEntropyBackward>)\n",
      "epoch: 7 batch: 350 loss: tensor(0.1513, device='cuda:0', dtype=torch.float64,\n",
      "       grad_fn=<BinaryCrossEntropyBackward>)\n",
      "epoch: 7 batch: 400 loss: tensor(0.1538, device='cuda:0', dtype=torch.float64,\n",
      "       grad_fn=<BinaryCrossEntropyBackward>)\n",
      "epoch: 7 batch: 450 loss: tensor(0.1700, device='cuda:0', dtype=torch.float64,\n",
      "       grad_fn=<BinaryCrossEntropyBackward>)\n",
      "epoch: 7 batch: 500 loss: tensor(0.1626, device='cuda:0', dtype=torch.float64,\n",
      "       grad_fn=<BinaryCrossEntropyBackward>)\n",
      "epoch: 7 batch: 550 loss: tensor(0.1510, device='cuda:0', dtype=torch.float64,\n",
      "       grad_fn=<BinaryCrossEntropyBackward>)\n",
      "epoch: 7 batch: 600 loss: tensor(0.1574, device='cuda:0', dtype=torch.float64,\n",
      "       grad_fn=<BinaryCrossEntropyBackward>)\n",
      "epoch: 7 batch: 650 loss: tensor(0.1565, device='cuda:0', dtype=torch.float64,\n",
      "       grad_fn=<BinaryCrossEntropyBackward>)\n",
      "epoch: 7 batch: 700 loss: tensor(0.1487, device='cuda:0', dtype=torch.float64,\n",
      "       grad_fn=<BinaryCrossEntropyBackward>)\n",
      "epoch: 7 batch: 750 loss: tensor(0.1502, device='cuda:0', dtype=torch.float64,\n",
      "       grad_fn=<BinaryCrossEntropyBackward>)\n",
      "epoch: 7 mean loss: tensor(0.1277, device='cuda:0', dtype=torch.float64, grad_fn=<DivBackward0>)\n",
      "epoch: 8 batch: 0 loss: tensor(0.1545, device='cuda:0', dtype=torch.float64,\n",
      "       grad_fn=<BinaryCrossEntropyBackward>)\n",
      "epoch: 8 batch: 50 loss: tensor(0.1513, device='cuda:0', dtype=torch.float64,\n",
      "       grad_fn=<BinaryCrossEntropyBackward>)\n",
      "epoch: 8 batch: 100 loss: tensor(0.1629, device='cuda:0', dtype=torch.float64,\n",
      "       grad_fn=<BinaryCrossEntropyBackward>)\n",
      "epoch: 8 batch: 150 loss: tensor(0.1497, device='cuda:0', dtype=torch.float64,\n",
      "       grad_fn=<BinaryCrossEntropyBackward>)\n",
      "epoch: 8 batch: 200 loss: tensor(0.1610, device='cuda:0', dtype=torch.float64,\n",
      "       grad_fn=<BinaryCrossEntropyBackward>)\n",
      "epoch: 8 batch: 250 loss: tensor(0.1627, device='cuda:0', dtype=torch.float64,\n",
      "       grad_fn=<BinaryCrossEntropyBackward>)\n",
      "epoch: 8 batch: 300 loss: tensor(0.1505, device='cuda:0', dtype=torch.float64,\n",
      "       grad_fn=<BinaryCrossEntropyBackward>)\n",
      "epoch: 8 batch: 350 loss: tensor(0.1513, device='cuda:0', dtype=torch.float64,\n",
      "       grad_fn=<BinaryCrossEntropyBackward>)\n",
      "epoch: 8 batch: 400 loss: tensor(0.1538, device='cuda:0', dtype=torch.float64,\n",
      "       grad_fn=<BinaryCrossEntropyBackward>)\n",
      "epoch: 8 batch: 450 loss: tensor(0.1706, device='cuda:0', dtype=torch.float64,\n",
      "       grad_fn=<BinaryCrossEntropyBackward>)\n",
      "epoch: 8 batch: 500 loss: tensor(0.1626, device='cuda:0', dtype=torch.float64,\n",
      "       grad_fn=<BinaryCrossEntropyBackward>)\n",
      "epoch: 8 batch: 550 loss: tensor(0.1507, device='cuda:0', dtype=torch.float64,\n",
      "       grad_fn=<BinaryCrossEntropyBackward>)\n",
      "epoch: 8 batch: 600 loss: tensor(0.1574, device='cuda:0', dtype=torch.float64,\n",
      "       grad_fn=<BinaryCrossEntropyBackward>)\n",
      "epoch: 8 batch: 650 loss: tensor(0.1565, device='cuda:0', dtype=torch.float64,\n",
      "       grad_fn=<BinaryCrossEntropyBackward>)\n",
      "epoch: 8 batch: 700 loss: tensor(0.1488, device='cuda:0', dtype=torch.float64,\n",
      "       grad_fn=<BinaryCrossEntropyBackward>)\n",
      "epoch: 8 batch: 750 loss: tensor(0.1501, device='cuda:0', dtype=torch.float64,\n",
      "       grad_fn=<BinaryCrossEntropyBackward>)\n",
      "epoch: 8 mean loss: tensor(0.1433, device='cuda:0', dtype=torch.float64, grad_fn=<DivBackward0>)\n",
      "epoch: 9 batch: 0 loss: tensor(0.1546, device='cuda:0', dtype=torch.float64,\n",
      "       grad_fn=<BinaryCrossEntropyBackward>)\n",
      "epoch: 9 batch: 50 loss: tensor(0.1514, device='cuda:0', dtype=torch.float64,\n",
      "       grad_fn=<BinaryCrossEntropyBackward>)\n",
      "epoch: 9 batch: 100 loss: tensor(0.1630, device='cuda:0', dtype=torch.float64,\n",
      "       grad_fn=<BinaryCrossEntropyBackward>)\n",
      "epoch: 9 batch: 150 loss: tensor(0.1495, device='cuda:0', dtype=torch.float64,\n",
      "       grad_fn=<BinaryCrossEntropyBackward>)\n",
      "epoch: 9 batch: 200 loss: tensor(0.1609, device='cuda:0', dtype=torch.float64,\n",
      "       grad_fn=<BinaryCrossEntropyBackward>)\n",
      "epoch: 9 batch: 250 loss: tensor(0.1625, device='cuda:0', dtype=torch.float64,\n",
      "       grad_fn=<BinaryCrossEntropyBackward>)\n",
      "epoch: 9 batch: 300 loss: tensor(0.1505, device='cuda:0', dtype=torch.float64,\n",
      "       grad_fn=<BinaryCrossEntropyBackward>)\n",
      "epoch: 9 batch: 350 loss: tensor(0.1512, device='cuda:0', dtype=torch.float64,\n",
      "       grad_fn=<BinaryCrossEntropyBackward>)\n",
      "epoch: 9 batch: 400 loss: tensor(0.1538, device='cuda:0', dtype=torch.float64,\n",
      "       grad_fn=<BinaryCrossEntropyBackward>)\n",
      "epoch: 9 batch: 450 loss: tensor(0.1703, device='cuda:0', dtype=torch.float64,\n",
      "       grad_fn=<BinaryCrossEntropyBackward>)\n",
      "epoch: 9 batch: 500 loss: tensor(0.1626, device='cuda:0', dtype=torch.float64,\n",
      "       grad_fn=<BinaryCrossEntropyBackward>)\n",
      "epoch: 9 batch: 550 loss: tensor(0.1504, device='cuda:0', dtype=torch.float64,\n",
      "       grad_fn=<BinaryCrossEntropyBackward>)\n",
      "epoch: 9 batch: 600 loss: tensor(0.1573, device='cuda:0', dtype=torch.float64,\n",
      "       grad_fn=<BinaryCrossEntropyBackward>)\n",
      "epoch: 9 batch: 650 loss: tensor(0.1564, device='cuda:0', dtype=torch.float64,\n",
      "       grad_fn=<BinaryCrossEntropyBackward>)\n",
      "epoch: 9 batch: 700 loss: tensor(0.1488, device='cuda:0', dtype=torch.float64,\n",
      "       grad_fn=<BinaryCrossEntropyBackward>)\n",
      "epoch: 9 batch: 750 loss: tensor(0.1511, device='cuda:0', dtype=torch.float64,\n",
      "       grad_fn=<BinaryCrossEntropyBackward>)\n",
      "epoch: 9 mean loss: tensor(0.1589, device='cuda:0', dtype=torch.float64, grad_fn=<DivBackward0>)\n"
     ]
    }
   ],
   "source": [
    "TraEvN = 8000\n",
    "BachSize = 10\n",
    "EpochNum = 10\n",
    "criterion = torch.nn.BCELoss()#CrossEntropyLoss()  # Define loss criterion.\n",
    "optimizer = torch.optim.Adam(model.parameters(), lr=0.01, weight_decay=5e-4)  # Define optimizer.\n",
    "\n",
    "#Clear gradients.\n",
    "for j in range(EpochNum):\n",
    "    mloss = 0\n",
    "    for i in range(TraEvN//BachSize):\n",
    "        optimizer.zero_grad()\n",
    "        xi = torch.tensor(xnodes2[i * BachSize : (i + 1) * BachSize])\n",
    "        datai = Data(x=xi, edge_index=edge_index).to(device)\n",
    "        outi = model(datai.x, datai.edge_index)#.type(torch.LongTensor)  # Perform a single forward pass.\n",
    "        truevaluebach = (torch.tensor(b221[i * BachSize : (i + 1) * BachSize])>0).type(torch.double).to(device)\n",
    "        loss = criterion((outi.reshape(BachSize, 43*43)), truevaluebach)  # Compute the loss solely based on the training nodes.\n",
    "        loss.backward()  # Derive gradients.\n",
    "        optimizer.step()  # Update parameters based on gradients.\n",
    "        if i % 50 == 0:\n",
    "            print('epoch:', j, 'batch:', i, 'loss:', loss)\n",
    "            mloss += loss\n",
    "        \n",
    "    print('epoch:', j, 'mean loss:', mloss/(TraEvN//50))"
   ]
  },
  {
   "cell_type": "code",
   "execution_count": 56,
   "metadata": {},
   "outputs": [
    {
     "data": {
      "text/plain": [
       "tensor(158, device='cuda:0')"
      ]
     },
     "execution_count": 56,
     "metadata": {},
     "output_type": "execute_result"
    }
   ],
   "source": [
    "(model(data.x.to(device), data.edge_index.to(device))[0]>0.053).sum()"
   ]
  },
  {
   "cell_type": "code",
   "execution_count": 85,
   "metadata": {},
   "outputs": [
    {
     "ename": "TypeError",
     "evalue": "'str' object is not callable",
     "output_type": "error",
     "traceback": [
      "\u001b[1;31m---------------------------------------------------------------------------\u001b[0m",
      "\u001b[1;31mTypeError\u001b[0m                                 Traceback (most recent call last)",
      "\u001b[1;32m<ipython-input-85-e3c9b1fce213>\u001b[0m in \u001b[0;36m<module>\u001b[1;34m\u001b[0m\n\u001b[0;32m      1\u001b[0m \u001b[0mplt\u001b[0m\u001b[1;33m.\u001b[0m\u001b[0mplot\u001b[0m\u001b[1;33m(\u001b[0m\u001b[0mnp\u001b[0m\u001b[1;33m.\u001b[0m\u001b[0marray\u001b[0m\u001b[1;33m(\u001b[0m\u001b[1;33m[\u001b[0m\u001b[1;36m185.0\u001b[0m\u001b[1;33m,\u001b[0m \u001b[1;36m170.5\u001b[0m\u001b[1;33m,\u001b[0m \u001b[1;36m165.7\u001b[0m\u001b[1;33m,\u001b[0m \u001b[1;36m163.2\u001b[0m\u001b[1;33m,\u001b[0m \u001b[1;36m161.8\u001b[0m\u001b[1;33m,\u001b[0m \u001b[1;36m160.8\u001b[0m\u001b[1;33m,\u001b[0m \u001b[1;36m160.1\u001b[0m\u001b[1;33m,\u001b[0m \u001b[1;36m159.6\u001b[0m\u001b[1;33m,\u001b[0m \u001b[1;36m159.2\u001b[0m\u001b[1;33m,\u001b[0m \u001b[1;36m158.9\u001b[0m\u001b[1;33m]\u001b[0m\u001b[1;33m)\u001b[0m\u001b[1;33m/\u001b[0m\u001b[1;36m1000\u001b[0m\u001b[1;33m)\u001b[0m\u001b[1;33m\u001b[0m\u001b[1;33m\u001b[0m\u001b[0m\n\u001b[0;32m      2\u001b[0m \u001b[0mplt\u001b[0m\u001b[1;33m.\u001b[0m\u001b[0mylabel\u001b[0m\u001b[1;33m(\u001b[0m\u001b[1;34m'loss'\u001b[0m\u001b[1;33m)\u001b[0m\u001b[1;33m\u001b[0m\u001b[1;33m\u001b[0m\u001b[0m\n\u001b[1;32m----> 3\u001b[1;33m \u001b[0mplt\u001b[0m\u001b[1;33m.\u001b[0m\u001b[0mxlabel\u001b[0m\u001b[1;33m(\u001b[0m\u001b[1;34m'epoch'\u001b[0m\u001b[1;33m)\u001b[0m\u001b[1;33m\u001b[0m\u001b[1;33m\u001b[0m\u001b[0m\n\u001b[0m",
      "\u001b[1;31mTypeError\u001b[0m: 'str' object is not callable"
     ]
    },
    {
     "data": {
      "image/png": "[encoded data removed]",
      "text/plain": [
       "<Figure size 432x288 with 1 Axes>"
      ]
     },
     "metadata": {
      "needs_background": "light"
     },
     "output_type": "display_data"
    }
   ],
   "source": [
    "plt.plot(np.array([185.0, 170.5, 165.7, 163.2, 161.8, 160.8, 160.1, 159.6, 159.2, 158.9])/1000)\n",
    "plt.ylabel('loss')\n",
    "plt.xlabel('epoch')"
   ]
  },
  {
   "cell_type": "code",
   "execution_count": 89,
   "metadata": {},
   "outputs": [],
   "source": [
    "%reset?"
   ]
  },
  {
   "cell_type": "markdown",
   "metadata": {},
   "source": [
    "0 tensor(1.7040, device='cuda:0', dtype=torch.float64,\n",
    "       grad_fn=<BinaryCrossEntropyBackward>)\n",
    "50 tensor(0.1805, device='cuda:0', dtype=torch.float64,\n",
    "       grad_fn=<BinaryCrossEntropyBackward>)\n",
    "100 tensor(0.1724, device='cuda:0', dtype=torch.float64,\n",
    "       grad_fn=<BinaryCrossEntropyBackward>)\n",
    "150 tensor(0.1508, device='cuda:0', dtype=torch.float64,\n",
    "       grad_fn=<BinaryCrossEntropyBackward>)\n",
    "200 tensor(0.1612, device='cuda:0', dtype=torch.float64,\n",
    "       grad_fn=<BinaryCrossEntropyBackward>)\n",
    "250 tensor(0.1634, device='cuda:0', dtype=torch.float64,\n",
    "       grad_fn=<BinaryCrossEntropyBackward>)\n",
    "300 tensor(0.1508, device='cuda:0', dtype=torch.float64,\n",
    "       grad_fn=<BinaryCrossEntropyBackward>)\n",
    "350 tensor(0.1514, device='cuda:0', dtype=torch.float64,\n",
    "       grad_fn=<BinaryCrossEntropyBackward>)\n",
    "400 tensor(0.1549, device='cuda:0', dtype=torch.float64,\n",
    "       grad_fn=<BinaryCrossEntropyBackward>)\n",
    "450 tensor(0.1706, device='cuda:0', dtype=torch.float64,\n",
    "       grad_fn=<BinaryCrossEntropyBackward>)\n",
    "500 tensor(0.1633, device='cuda:0', dtype=torch.float64,\n",
    "       grad_fn=<BinaryCrossEntropyBackward>)\n",
    "550 tensor(0.1505, device='cuda:0', dtype=torch.float64,\n",
    "       grad_fn=<BinaryCrossEntropyBackward>)\n",
    "600 tensor(0.1573, device='cuda:0', dtype=torch.float64,\n",
    "       grad_fn=<BinaryCrossEntropyBackward>)\n",
    "650 tensor(0.1565, device='cuda:0', dtype=torch.float64,\n",
    "       grad_fn=<BinaryCrossEntropyBackward>)\n",
    "700 tensor(0.1483, device='cuda:0', dtype=torch.float64,\n",
    "       grad_fn=<BinaryCrossEntropyBackward>)\n",
    "750 tensor(0.1505, device='cuda:0', dtype=torch.float64,\n",
    "       grad_fn=<BinaryCrossEntropyBackward>)\n",
    "tensor(0.0255, device='cuda:0', dtype=torch.float64, grad_fn=<DivBackward0>)"
   ]
  },
  {
   "cell_type": "code",
   "execution_count": 212,
   "metadata": {},
   "outputs": [
    {
     "data": {
      "text/plain": [
       "<matplotlib.image.AxesImage at 0x17195170a00>"
      ]
     },
     "execution_count": 212,
     "metadata": {},
     "output_type": "execute_result"
    },
    {
     "data": {
      "image/png": "[encoded data removed]",
      "text/plain": [
       "<Figure size 288x288 with 1 Axes>"
      ]
     },
     "metadata": {
      "needs_background": "light"
     },
     "output_type": "display_data"
    },
    {
     "data": {
      "image/png": "[encoded data removed]",
      "text/plain": [
       "<Figure size 288x288 with 1 Axes>"
      ]
     },
     "metadata": {
      "needs_background": "light"
     },
     "output_type": "display_data"
    }
   ],
   "source": [
    "plt.matshow(b221[1].reshape(43, 43))\n",
    "plt.matshow(a221[1])"
   ]
  },
  {
   "cell_type": "code",
   "execution_count": 76,
   "metadata": {},
   "outputs": [
    {
     "data": {
      "text/plain": [
       "tensor([[ 2.7330e-39],\n",
       "        [ 3.6729e-34],\n",
       "        [ 3.2160e-31],\n",
       "        [ 1.9208e-30],\n",
       "        [ 9.5944e-31],\n",
       "        [ 2.1048e-31],\n",
       "        [ 4.5791e-32],\n",
       "        [ 9.8849e-33],\n",
       "        [ 2.1160e-33],\n",
       "        [ 4.4933e-34],\n",
       "        [ 9.4758e-35],\n",
       "        [ 1.9890e-35],\n",
       "        [ 4.1600e-36],\n",
       "        [ 8.6724e-37],\n",
       "        [ 1.8009e-37],\n",
       "        [ 3.7228e-38],\n",
       "        [ 7.6572e-39],\n",
       "        [ 1.5668e-39],\n",
       "        [ 3.1914e-40],\n",
       "        [ 6.4817e-41],\n",
       "        [ 1.3170e-41],\n",
       "        [ 2.6815e-42],\n",
       "        [ 5.4738e-43],\n",
       "        [ 1.1182e-43],\n",
       "        [ 2.2834e-44],\n",
       "        [ 4.6544e-45],\n",
       "        [ 9.4637e-46],\n",
       "        [ 1.9192e-46],\n",
       "        [ 3.8842e-47],\n",
       "        [ 7.8604e-48],\n",
       "        [ 1.5912e-48],\n",
       "        [ 3.2214e-49],\n",
       "        [ 6.5113e-50],\n",
       "        [ 1.3140e-50],\n",
       "        [ 2.6483e-51],\n",
       "        [ 5.3347e-52],\n",
       "        [ 1.0739e-52],\n",
       "        [ 2.1606e-53],\n",
       "        [ 4.3430e-54],\n",
       "        [ 2.0387e-54],\n",
       "        [ 1.2114e-53],\n",
       "        [ 1.1243e-50],\n",
       "        [ 1.6029e-45],\n",
       "        [ 8.2112e-57],\n",
       "        [ 1.2024e-50],\n",
       "        [ 4.1320e-47],\n",
       "        [ 3.5364e-46],\n",
       "        [ 1.5352e-46],\n",
       "        [ 2.4791e-47],\n",
       "        [ 3.9638e-48],\n",
       "        [ 6.2772e-49],\n",
       "        [ 9.8382e-50],\n",
       "        [ 1.5268e-50],\n",
       "        [ 2.3491e-51],\n",
       "        [ 3.5933e-52],\n",
       "        [ 5.4723e-53],\n",
       "        [ 8.3026e-54],\n",
       "        [ 1.2542e-54],\n",
       "        [ 1.8851e-55],\n",
       "        [ 2.8181e-56],\n",
       "        [ 4.1901e-57],\n",
       "        [ 6.2010e-58],\n",
       "        [ 9.1491e-59],\n",
       "        [ 1.3496e-59],\n",
       "        [ 1.9929e-60],\n",
       "        [ 2.9479e-61],\n",
       "        [ 4.3615e-62],\n",
       "        [ 6.4480e-63],\n",
       "        [ 9.5111e-64],\n",
       "        [ 1.3986e-64],\n",
       "        [ 2.0500e-65],\n",
       "        [ 2.9973e-66],\n",
       "        [ 4.3790e-67],\n",
       "        [ 6.3961e-68],\n",
       "        [ 9.3384e-69],\n",
       "        [ 1.3609e-69],\n",
       "        [ 1.9798e-70],\n",
       "        [ 2.8762e-71],\n",
       "        [ 4.1762e-72],\n",
       "        [ 6.0591e-73],\n",
       "        [ 8.7815e-74],\n",
       "        [ 1.2710e-74],\n",
       "        [ 5.1078e-75],\n",
       "        [ 4.3679e-74],\n",
       "        [ 1.6374e-70],\n",
       "        [ 2.6163e-64],\n",
       "        [ 1.6992e-76],\n",
       "        [ 1.5380e-70],\n",
       "        [ 3.9876e-67],\n",
       "        [ 3.1598e-66],\n",
       "        [ 1.4087e-66],\n",
       "        [ 2.4194e-67],\n",
       "        [ 4.1206e-68],\n",
       "        [ 6.9568e-69],\n",
       "        [ 1.1628e-69],\n",
       "        [ 1.9246e-70],\n",
       "        [ 3.1570e-71],\n",
       "        [ 5.1452e-72],\n",
       "        [ 8.3441e-73],\n",
       "        [ 1.3476e-73],\n",
       "        [ 2.1671e-74],\n",
       "        [ 3.4692e-75],\n",
       "        [ 5.5302e-76],\n",
       "        [ 8.7825e-77],\n",
       "        [ 1.3907e-77],\n",
       "        [ 2.1970e-78],\n",
       "        [ 3.4656e-79],\n",
       "        [ 5.4605e-80],\n",
       "        [ 8.5998e-81],\n",
       "        [ 1.3537e-81],\n",
       "        [ 2.1285e-82],\n",
       "        [ 3.3396e-83],\n",
       "        [ 5.2243e-84],\n",
       "        [ 8.1496e-85],\n",
       "        [ 1.2687e-85],\n",
       "        [ 1.9744e-86],\n",
       "        [ 3.0725e-87],\n",
       "        [ 4.7793e-88],\n",
       "        [ 7.4212e-89],\n",
       "        [ 1.1502e-89],\n",
       "        [ 1.7797e-90],\n",
       "        [ 2.7502e-91],\n",
       "        [ 4.2443e-92],\n",
       "        [ 6.5391e-93],\n",
       "        [ 1.0056e-93],\n",
       "        [ 4.1562e-94],\n",
       "        [ 3.3154e-93],\n",
       "        [ 9.5507e-90],\n",
       "        [ 9.5919e-84],\n",
       "        [1.1745e-102],\n",
       "        [ 6.7850e-97],\n",
       "        [ 1.3567e-93],\n",
       "        [ 9.9960e-93],\n",
       "        [ 4.5546e-93],\n",
       "        [ 8.2573e-94],\n",
       "        [ 1.4885e-94],\n",
       "        [ 2.6659e-95],\n",
       "        [ 4.7364e-96],\n",
       "        [ 8.3416e-97],\n",
       "        [ 1.4562e-97],\n",
       "        [ 2.5231e-98],\n",
       "        [ 4.3440e-99],\n",
       "        [7.4387e-100],\n",
       "        [1.2673e-100],\n",
       "        [2.1486e-101],\n",
       "        [3.6280e-102],\n",
       "        [6.1072e-103],\n",
       "        [1.0260e-103],\n",
       "        [1.7208e-104],\n",
       "        [2.8824e-105],\n",
       "        [4.8213e-106],\n",
       "        [8.0555e-107],\n",
       "        [1.3449e-107],\n",
       "        [2.2430e-108],\n",
       "        [3.7349e-109],\n",
       "        [6.2051e-110],\n",
       "        [1.0289e-110],\n",
       "        [1.7036e-111],\n",
       "        [2.8179e-112],\n",
       "        [4.6559e-113],\n",
       "        [7.6812e-114],\n",
       "        [1.2648e-114],\n",
       "        [2.0791e-115],\n",
       "        [3.4127e-116],\n",
       "        [5.5962e-117],\n",
       "        [9.1653e-118],\n",
       "        [1.4986e-118],\n",
       "        [2.4452e-119],\n",
       "        [1.0395e-119],\n",
       "        [7.7841e-119],\n",
       "        [1.7511e-115],\n",
       "        [1.1342e-109],\n",
       "        [1.8699e-131],\n",
       "        [8.2911e-126],\n",
       "        [1.4195e-122],\n",
       "        [9.9810e-122],\n",
       "        [4.5850e-122],\n",
       "        [8.5499e-123],\n",
       "        [1.5904e-123],\n",
       "        [2.9484e-124],\n",
       "        [5.4377e-125],\n",
       "        [9.9635e-126],\n",
       "        [1.8121e-126],\n",
       "        [3.2717e-127],\n",
       "        [5.8654e-128],\n",
       "        [1.0443e-128],\n",
       "        [1.8471e-129],\n",
       "        [3.2471e-130],\n",
       "        [5.6791e-131],\n",
       "        [9.8942e-132],\n",
       "        [1.7190e-132],\n",
       "        [2.9798e-133],\n",
       "        [5.1548e-134],\n",
       "        [8.9003e-135],\n",
       "        [1.5346e-135],\n",
       "        [2.6440e-136],\n",
       "        [4.5517e-137],\n",
       "        [7.8274e-138],\n",
       "        [1.3443e-138],\n",
       "        [2.3070e-139],\n",
       "        [3.9578e-140],\n",
       "        [6.7897e-141],\n",
       "        [1.1640e-141],\n",
       "        [1.9928e-142],\n",
       "        [3.4054e-143],\n",
       "        [5.8103e-144],\n",
       "        [9.9022e-145],\n",
       "        [1.6863e-145],\n",
       "        [2.8689e-146],\n",
       "        [4.8746e-147],\n",
       "        [8.2687e-148],\n",
       "        [3.5844e-148],\n",
       "        [2.5850e-147],\n",
       "        [4.9978e-144],\n",
       "        [2.4864e-138],\n",
       "        [6.2768e-161],\n",
       "        [2.4571e-155],\n",
       "        [3.9001e-152],\n",
       "        [2.6726e-151],\n",
       "        [1.2274e-151],\n",
       "        [2.3097e-152],\n",
       "        [4.3441e-153],\n",
       "        [8.1621e-154],\n",
       "        [1.5301e-154],\n",
       "        [2.8583e-155],\n",
       "        [5.3139e-156],\n",
       "        [9.8242e-157],\n",
       "        [1.8052e-157],\n",
       "        [3.2954e-158],\n",
       "        [5.9751e-159],\n",
       "        [1.0760e-159],\n",
       "        [1.9249e-160],\n",
       "        [3.4234e-161],\n",
       "        [6.0578e-162],\n",
       "        [1.0675e-162],\n",
       "        [1.8746e-163],\n",
       "        [3.2818e-164],\n",
       "        [5.7318e-165],\n",
       "        [9.9942e-166],\n",
       "        [1.7403e-166],\n",
       "        [3.0270e-167],\n",
       "        [5.2609e-168],\n",
       "        [9.1419e-169],\n",
       "        [1.5889e-169],\n",
       "        [2.7625e-170],\n",
       "        [4.8006e-171],\n",
       "        [8.3330e-172],\n",
       "        [1.4443e-172],\n",
       "        [2.5012e-173],\n",
       "        [4.3310e-174],\n",
       "        [7.5022e-175],\n",
       "        [1.2995e-175],\n",
       "        [2.2497e-176],\n",
       "        [3.8905e-177],\n",
       "        [1.7049e-177],\n",
       "        [1.2117e-176],\n",
       "        [2.1913e-173],\n",
       "        [9.6759e-168],\n",
       "        [1.8454e-190],\n",
       "        [6.7906e-185],\n",
       "        [1.0370e-181],\n",
       "        [7.0023e-181],\n",
       "        [3.2072e-181],\n",
       "        [6.0431e-182],\n",
       "        [1.1389e-182],\n",
       "        [2.1466e-183],\n",
       "        [4.0434e-184],\n",
       "        [7.6057e-185],\n",
       "        [1.4276e-185],\n",
       "        [2.6719e-186],\n",
       "        [4.9820e-187],\n",
       "        [9.2457e-188],\n",
       "        [1.7064e-188],\n",
       "        [3.1303e-189],\n",
       "        [5.7047e-190],\n",
       "        [1.0328e-190],\n",
       "        [1.8581e-191],\n",
       "        [3.3226e-192],\n",
       "        [5.9081e-193],\n",
       "        [1.0451e-193],\n",
       "        [1.8410e-194],\n",
       "        [3.2316e-195],\n",
       "        [5.6567e-196],\n",
       "        [9.8806e-197],\n",
       "        [1.7232e-197],\n",
       "        [3.0033e-198],\n",
       "        [5.2329e-199],\n",
       "        [9.1181e-200],\n",
       "        [1.5881e-200],\n",
       "        [2.7636e-201],\n",
       "        [4.8043e-202],\n",
       "        [8.3490e-203],\n",
       "        [1.4515e-203],\n",
       "        [2.5251e-204],\n",
       "        [4.3941e-205],\n",
       "        [7.6452e-206],\n",
       "        [1.3297e-206],\n",
       "        [5.8507e-207],\n",
       "        [4.1392e-206],\n",
       "        [7.2879e-203],\n",
       "        [3.0513e-197],\n",
       "        [5.3024e-220],\n",
       "        [1.8511e-214],\n",
       "        [2.7419e-211],\n",
       "        [1.8317e-210],\n",
       "        [8.3786e-211],\n",
       "        [1.5795e-211],\n",
       "        [2.9784e-212],\n",
       "        [5.6170e-213],\n",
       "        [1.0593e-213],\n",
       "        [1.9973e-214],\n",
       "        [3.7635e-215],\n",
       "        [7.0843e-216],\n",
       "        [1.3314e-216],\n",
       "        [2.4964e-217],\n",
       "        [4.6665e-218],\n",
       "        [8.6882e-219],\n",
       "        [1.6095e-219],\n",
       "        [2.9647e-220],\n",
       "        [5.4275e-221],\n",
       "        [9.8735e-222],\n",
       "        [1.7849e-222],\n",
       "        [3.2067e-223],\n",
       "        [5.7275e-224],\n",
       "        [1.0175e-224],\n",
       "        [1.7987e-225],\n",
       "        [3.1675e-226],\n",
       "        [5.5604e-227],\n",
       "        [9.7386e-228],\n",
       "        [1.7026e-228],\n",
       "        [2.9732e-229],\n",
       "        [5.1857e-230],\n",
       "        [9.0331e-231],\n",
       "        [1.5718e-231],\n",
       "        [2.7343e-232],\n",
       "        [4.7579e-233],\n",
       "        [8.2829e-234],\n",
       "        [1.4421e-234],\n",
       "        [2.5105e-235],\n",
       "        [4.3700e-236],\n",
       "        [1.9243e-236],\n",
       "        [1.3537e-235],\n",
       "        [2.3299e-232],\n",
       "        [9.3102e-227],\n",
       "        [1.5036e-249],\n",
       "        [5.0034e-244],\n",
       "        [7.2273e-241],\n",
       "        [4.7896e-240],\n",
       "        [2.1900e-240],\n",
       "        [4.1300e-241],\n",
       "        [7.7892e-242],\n",
       "        [1.4691e-242],\n",
       "        [2.7711e-243],\n",
       "        [5.2267e-244],\n",
       "        [9.8578e-245],\n",
       "        [1.8589e-245],\n",
       "        [3.5038e-246],\n",
       "        [6.5993e-247],\n",
       "        [1.2414e-247],\n",
       "        [2.3306e-248],\n",
       "        [4.3641e-249],\n",
       "        [8.1438e-250],\n",
       "        [1.5134e-250],\n",
       "        [2.7981e-251],\n",
       "        [5.1444e-252],\n",
       "        [9.4015e-253],\n",
       "        [1.7076e-253],\n",
       "        [3.0825e-254],\n",
       "        [5.5312e-255],\n",
       "        [9.8707e-256],\n",
       "        [1.7527e-256],\n",
       "        [3.0985e-257],\n",
       "        [5.4577e-258],\n",
       "        [9.5855e-259],\n",
       "        [1.6794e-259],\n",
       "        [2.9361e-260],\n",
       "        [5.1248e-261],\n",
       "        [8.9360e-262],\n",
       "        [1.5571e-262],\n",
       "        [2.7116e-263],\n",
       "        [4.7189e-264],\n",
       "        [8.2088e-265],\n",
       "        [1.4277e-265],\n",
       "        [6.2789e-266],\n",
       "        [4.3786e-265],\n",
       "        [7.3459e-262],\n",
       "        [2.7967e-256],\n",
       "        [4.2269e-279],\n",
       "        [1.3453e-273],\n",
       "        [1.9025e-270],\n",
       "        [1.2529e-269],\n",
       "        [5.7278e-270],\n",
       "        [1.0802e-270],\n",
       "        [2.0374e-271],\n",
       "        [3.8428e-272],\n",
       "        [7.2483e-273],\n",
       "        [1.3671e-273],\n",
       "        [2.5787e-274],\n",
       "        [4.8639e-275],\n",
       "        [9.1741e-276],\n",
       "        [1.7301e-276],\n",
       "        [3.2617e-277],\n",
       "        [6.1454e-278],\n",
       "        [1.1567e-278],\n",
       "        [2.1736e-279],\n",
       "        [4.0756e-280],\n",
       "        [7.6197e-281],\n",
       "        [1.4195e-281],\n",
       "        [2.6329e-282],\n",
       "        [4.8590e-283],\n",
       "        [8.9178e-284],\n",
       "        [1.6271e-284],\n",
       "        [2.9511e-285],\n",
       "        [5.3212e-286],\n",
       "        [9.5403e-287],\n",
       "        [1.7015e-287],\n",
       "        [3.0205e-288],\n",
       "        [5.3399e-289],\n",
       "        [9.4059e-290],\n",
       "        [1.6520e-290],\n",
       "        [2.8953e-291],\n",
       "        [5.0646e-292],\n",
       "        [8.8456e-293],\n",
       "        [1.5429e-293],\n",
       "        [2.6886e-294],\n",
       "        [4.6810e-295],\n",
       "        [2.0564e-295],\n",
       "        [1.4172e-294],\n",
       "        [2.3054e-291],\n",
       "        [8.3256e-286],\n",
       "        [1.1766e-308],\n",
       "        [3.6006e-303],\n",
       "        [5.0045e-300],\n",
       "        [3.2797e-299],\n",
       "        [1.4990e-299],\n",
       "        [2.8262e-300],\n",
       "        [5.3302e-301],\n",
       "        [1.0054e-301],\n",
       "        [1.8962e-302],\n",
       "        [3.5763e-303],\n",
       "        [6.7453e-304],\n",
       "        [1.2724e-304],\n",
       "        [2.4004e-305],\n",
       "        [4.5279e-306],\n",
       "        [8.5394e-307],\n",
       "        [1.6102e-307],\n",
       "        [3.0355e-308],\n",
       "        [5.7203e-309],\n",
       "        [ 0.0000e+00],\n",
       "        [ 0.0000e+00],\n",
       "        [ 0.0000e+00],\n",
       "        [ 0.0000e+00],\n",
       "        [ 0.0000e+00],\n",
       "        [ 0.0000e+00],\n",
       "        [ 0.0000e+00],\n",
       "        [ 0.0000e+00],\n",
       "        [ 0.0000e+00],\n",
       "        [ 0.0000e+00],\n",
       "        [ 0.0000e+00],\n",
       "        [ 0.0000e+00],\n",
       "        [ 0.0000e+00],\n",
       "        [ 0.0000e+00],\n",
       "        [ 0.0000e+00],\n",
       "        [ 0.0000e+00],\n",
       "        [ 0.0000e+00],\n",
       "        [ 0.0000e+00],\n",
       "        [ 0.0000e+00],\n",
       "        [ 0.0000e+00],\n",
       "        [ 0.0000e+00],\n",
       "        [ 0.0000e+00],\n",
       "        [ 0.0000e+00],\n",
       "        [ 0.0000e+00],\n",
       "        [ 0.0000e+00],\n",
       "        [ 0.0000e+00],\n",
       "        [ 0.0000e+00],\n",
       "        [ 0.0000e+00],\n",
       "        [ 0.0000e+00],\n",
       "        [ 0.0000e+00],\n",
       "        [ 0.0000e+00],\n",
       "        [ 0.0000e+00],\n",
       "        [ 0.0000e+00],\n",
       "        [ 0.0000e+00],\n",
       "        [ 0.0000e+00],\n",
       "        [ 0.0000e+00],\n",
       "        [ 0.0000e+00],\n",
       "        [ 0.0000e+00],\n",
       "        [ 0.0000e+00],\n",
       "        [ 0.0000e+00],\n",
       "        [ 0.0000e+00],\n",
       "        [ 0.0000e+00],\n",
       "        [ 0.0000e+00],\n",
       "        [ 0.0000e+00],\n",
       "        [ 0.0000e+00],\n",
       "        [ 0.0000e+00],\n",
       "        [ 0.0000e+00],\n",
       "        [ 0.0000e+00],\n",
       "        [ 0.0000e+00],\n",
       "        [ 0.0000e+00],\n",
       "        [ 0.0000e+00],\n",
       "        [ 0.0000e+00]], dtype=torch.float64, grad_fn=<SliceBackward>)"
      ]
     },
     "execution_count": 76,
     "metadata": {},
     "output_type": "execute_result"
    }
   ],
   "source": [
    "sampev[0:500]"
   ]
  },
  {
   "cell_type": "code",
   "execution_count": 75,
   "metadata": {},
   "outputs": [
    {
     "name": "stderr",
     "output_type": "stream",
     "text": [
      "<ipython-input-75-195ec208b4ec>:1: UserWarning: To copy construct from a tensor, it is recommended to use sourceTensor.clone().detach() or sourceTensor.clone().detach().requires_grad_(True), rather than torch.tensor(sourceTensor).\n",
      "  x1 = torch.tensor(xnodes[100])\n"
     ]
    },
    {
     "data": {
      "text/plain": [
       "<matplotlib.image.AxesImage at 0x26be96cd6a0>"
      ]
     },
     "execution_count": 75,
     "metadata": {},
     "output_type": "execute_result"
    },
    {
     "data": {
      "image/png": "[encoded data removed]",
      "text/plain": [
       "<Figure size 288x288 with 1 Axes>"
      ]
     },
     "metadata": {
      "needs_background": "light"
     },
     "output_type": "display_data"
    }
   ],
   "source": [
    "x1 = torch.tensor(xnodes[100])\n",
    "data1 = Data(x=x1, edge_index=edge_index)\n",
    "sampev = torch.Tensor.cpu(model(data1.x.to(device), data.edge_index.to(device)))\n",
    "plt.matshow(sampev.reshape(43, 43).detach().numpy())"
   ]
  },
  {
   "cell_type": "code",
   "execution_count": 62,
   "metadata": {},
   "outputs": [
    {
     "data": {
      "text/plain": [
       "4"
      ]
     },
     "execution_count": 62,
     "metadata": {},
     "output_type": "execute_result"
    }
   ],
   "source": [
    "data1.num_node_features"
   ]
  },
  {
   "cell_type": "code",
   "execution_count": 191,
   "metadata": {},
   "outputs": [
    {
     "data": {
      "text/plain": [
       "torch.Size([1849])"
      ]
     },
     "execution_count": 191,
     "metadata": {},
     "output_type": "execute_result"
    }
   ],
   "source": [
    "torch.tensor(b221[i]).shape"
   ]
  },
  {
   "cell_type": "code",
   "execution_count": 192,
   "metadata": {},
   "outputs": [
    {
     "data": {
      "text/plain": [
       "torch.Size([1849])"
      ]
     },
     "execution_count": 192,
     "metadata": {},
     "output_type": "execute_result"
    }
   ],
   "source": [
    "model(datai.x, datai.edge_index)[0].reshape(43*43).shape"
   ]
  },
  {
   "cell_type": "code",
   "execution_count": 200,
   "metadata": {},
   "outputs": [
    {
     "ename": "IndexError",
     "evalue": "Dimension out of range (expected to be in range of [-1, 0], but got 1)",
     "output_type": "error",
     "traceback": [
      "\u001b[1;31m---------------------------------------------------------------------------\u001b[0m",
      "\u001b[1;31mIndexError\u001b[0m                                Traceback (most recent call last)",
      "\u001b[1;32m<ipython-input-200-88aafda21cbe>\u001b[0m in \u001b[0;36m<module>\u001b[1;34m\u001b[0m\n\u001b[1;32m----> 1\u001b[1;33m \u001b[0mcriterion\u001b[0m\u001b[1;33m(\u001b[0m\u001b[0mtorch\u001b[0m\u001b[1;33m.\u001b[0m\u001b[0mtensor\u001b[0m\u001b[1;33m(\u001b[0m\u001b[1;33m[\u001b[0m\u001b[1;36m1\u001b[0m\u001b[1;33m,\u001b[0m \u001b[1;36m4\u001b[0m\u001b[1;33m]\u001b[0m\u001b[1;33m)\u001b[0m\u001b[1;33m,\u001b[0m \u001b[0mtorch\u001b[0m\u001b[1;33m.\u001b[0m\u001b[0mtensor\u001b[0m\u001b[1;33m(\u001b[0m\u001b[1;33m[\u001b[0m\u001b[1;36m8\u001b[0m\u001b[1;33m,\u001b[0m\u001b[1;36m7\u001b[0m\u001b[1;33m]\u001b[0m\u001b[1;33m)\u001b[0m\u001b[1;33m)\u001b[0m\u001b[1;33m\u001b[0m\u001b[1;33m\u001b[0m\u001b[0m\n\u001b[0m",
      "\u001b[1;32m~\\miniconda3\\envs\\tfgpu2\\lib\\site-packages\\torch\\nn\\modules\\module.py\u001b[0m in \u001b[0;36m_call_impl\u001b[1;34m(self, *input, **kwargs)\u001b[0m\n\u001b[0;32m    887\u001b[0m             \u001b[0mresult\u001b[0m \u001b[1;33m=\u001b[0m \u001b[0mself\u001b[0m\u001b[1;33m.\u001b[0m\u001b[0m_slow_forward\u001b[0m\u001b[1;33m(\u001b[0m\u001b[1;33m*\u001b[0m\u001b[0minput\u001b[0m\u001b[1;33m,\u001b[0m \u001b[1;33m**\u001b[0m\u001b[0mkwargs\u001b[0m\u001b[1;33m)\u001b[0m\u001b[1;33m\u001b[0m\u001b[1;33m\u001b[0m\u001b[0m\n\u001b[0;32m    888\u001b[0m         \u001b[1;32melse\u001b[0m\u001b[1;33m:\u001b[0m\u001b[1;33m\u001b[0m\u001b[1;33m\u001b[0m\u001b[0m\n\u001b[1;32m--> 889\u001b[1;33m             \u001b[0mresult\u001b[0m \u001b[1;33m=\u001b[0m \u001b[0mself\u001b[0m\u001b[1;33m.\u001b[0m\u001b[0mforward\u001b[0m\u001b[1;33m(\u001b[0m\u001b[1;33m*\u001b[0m\u001b[0minput\u001b[0m\u001b[1;33m,\u001b[0m \u001b[1;33m**\u001b[0m\u001b[0mkwargs\u001b[0m\u001b[1;33m)\u001b[0m\u001b[1;33m\u001b[0m\u001b[1;33m\u001b[0m\u001b[0m\n\u001b[0m\u001b[0;32m    890\u001b[0m         for hook in itertools.chain(\n\u001b[0;32m    891\u001b[0m                 \u001b[0m_global_forward_hooks\u001b[0m\u001b[1;33m.\u001b[0m\u001b[0mvalues\u001b[0m\u001b[1;33m(\u001b[0m\u001b[1;33m)\u001b[0m\u001b[1;33m,\u001b[0m\u001b[1;33m\u001b[0m\u001b[1;33m\u001b[0m\u001b[0m\n",
      "\u001b[1;32m~\\miniconda3\\envs\\tfgpu2\\lib\\site-packages\\torch\\nn\\modules\\loss.py\u001b[0m in \u001b[0;36mforward\u001b[1;34m(self, input, target)\u001b[0m\n\u001b[0;32m   1045\u001b[0m     \u001b[1;32mdef\u001b[0m \u001b[0mforward\u001b[0m\u001b[1;33m(\u001b[0m\u001b[0mself\u001b[0m\u001b[1;33m,\u001b[0m \u001b[0minput\u001b[0m\u001b[1;33m:\u001b[0m \u001b[0mTensor\u001b[0m\u001b[1;33m,\u001b[0m \u001b[0mtarget\u001b[0m\u001b[1;33m:\u001b[0m \u001b[0mTensor\u001b[0m\u001b[1;33m)\u001b[0m \u001b[1;33m->\u001b[0m \u001b[0mTensor\u001b[0m\u001b[1;33m:\u001b[0m\u001b[1;33m\u001b[0m\u001b[1;33m\u001b[0m\u001b[0m\n\u001b[0;32m   1046\u001b[0m         \u001b[1;32massert\u001b[0m \u001b[0mself\u001b[0m\u001b[1;33m.\u001b[0m\u001b[0mweight\u001b[0m \u001b[1;32mis\u001b[0m \u001b[1;32mNone\u001b[0m \u001b[1;32mor\u001b[0m \u001b[0misinstance\u001b[0m\u001b[1;33m(\u001b[0m\u001b[0mself\u001b[0m\u001b[1;33m.\u001b[0m\u001b[0mweight\u001b[0m\u001b[1;33m,\u001b[0m \u001b[0mTensor\u001b[0m\u001b[1;33m)\u001b[0m\u001b[1;33m\u001b[0m\u001b[1;33m\u001b[0m\u001b[0m\n\u001b[1;32m-> 1047\u001b[1;33m         return F.cross_entropy(input, target, weight=self.weight,\n\u001b[0m\u001b[0;32m   1048\u001b[0m                                ignore_index=self.ignore_index, reduction=self.reduction)\n\u001b[0;32m   1049\u001b[0m \u001b[1;33m\u001b[0m\u001b[0m\n",
      "\u001b[1;32m~\\miniconda3\\envs\\tfgpu2\\lib\\site-packages\\torch\\nn\\functional.py\u001b[0m in \u001b[0;36mcross_entropy\u001b[1;34m(input, target, weight, size_average, ignore_index, reduce, reduction)\u001b[0m\n\u001b[0;32m   2688\u001b[0m     \u001b[1;32mif\u001b[0m \u001b[0msize_average\u001b[0m \u001b[1;32mis\u001b[0m \u001b[1;32mnot\u001b[0m \u001b[1;32mNone\u001b[0m \u001b[1;32mor\u001b[0m \u001b[0mreduce\u001b[0m \u001b[1;32mis\u001b[0m \u001b[1;32mnot\u001b[0m \u001b[1;32mNone\u001b[0m\u001b[1;33m:\u001b[0m\u001b[1;33m\u001b[0m\u001b[1;33m\u001b[0m\u001b[0m\n\u001b[0;32m   2689\u001b[0m         \u001b[0mreduction\u001b[0m \u001b[1;33m=\u001b[0m \u001b[0m_Reduction\u001b[0m\u001b[1;33m.\u001b[0m\u001b[0mlegacy_get_string\u001b[0m\u001b[1;33m(\u001b[0m\u001b[0msize_average\u001b[0m\u001b[1;33m,\u001b[0m \u001b[0mreduce\u001b[0m\u001b[1;33m)\u001b[0m\u001b[1;33m\u001b[0m\u001b[1;33m\u001b[0m\u001b[0m\n\u001b[1;32m-> 2690\u001b[1;33m     \u001b[1;32mreturn\u001b[0m \u001b[0mnll_loss\u001b[0m\u001b[1;33m(\u001b[0m\u001b[0mlog_softmax\u001b[0m\u001b[1;33m(\u001b[0m\u001b[0minput\u001b[0m\u001b[1;33m,\u001b[0m \u001b[1;36m1\u001b[0m\u001b[1;33m)\u001b[0m\u001b[1;33m,\u001b[0m \u001b[0mtarget\u001b[0m\u001b[1;33m,\u001b[0m \u001b[0mweight\u001b[0m\u001b[1;33m,\u001b[0m \u001b[1;32mNone\u001b[0m\u001b[1;33m,\u001b[0m \u001b[0mignore_index\u001b[0m\u001b[1;33m,\u001b[0m \u001b[1;32mNone\u001b[0m\u001b[1;33m,\u001b[0m \u001b[0mreduction\u001b[0m\u001b[1;33m)\u001b[0m\u001b[1;33m\u001b[0m\u001b[1;33m\u001b[0m\u001b[0m\n\u001b[0m\u001b[0;32m   2691\u001b[0m \u001b[1;33m\u001b[0m\u001b[0m\n\u001b[0;32m   2692\u001b[0m \u001b[1;33m\u001b[0m\u001b[0m\n",
      "\u001b[1;32m~\\miniconda3\\envs\\tfgpu2\\lib\\site-packages\\torch\\nn\\functional.py\u001b[0m in \u001b[0;36mlog_softmax\u001b[1;34m(input, dim, _stacklevel, dtype)\u001b[0m\n\u001b[0;32m   1670\u001b[0m         \u001b[0mdim\u001b[0m \u001b[1;33m=\u001b[0m \u001b[0m_get_softmax_dim\u001b[0m\u001b[1;33m(\u001b[0m\u001b[1;34m\"log_softmax\"\u001b[0m\u001b[1;33m,\u001b[0m \u001b[0minput\u001b[0m\u001b[1;33m.\u001b[0m\u001b[0mdim\u001b[0m\u001b[1;33m(\u001b[0m\u001b[1;33m)\u001b[0m\u001b[1;33m,\u001b[0m \u001b[0m_stacklevel\u001b[0m\u001b[1;33m)\u001b[0m\u001b[1;33m\u001b[0m\u001b[1;33m\u001b[0m\u001b[0m\n\u001b[0;32m   1671\u001b[0m     \u001b[1;32mif\u001b[0m \u001b[0mdtype\u001b[0m \u001b[1;32mis\u001b[0m \u001b[1;32mNone\u001b[0m\u001b[1;33m:\u001b[0m\u001b[1;33m\u001b[0m\u001b[1;33m\u001b[0m\u001b[0m\n\u001b[1;32m-> 1672\u001b[1;33m         \u001b[0mret\u001b[0m \u001b[1;33m=\u001b[0m \u001b[0minput\u001b[0m\u001b[1;33m.\u001b[0m\u001b[0mlog_softmax\u001b[0m\u001b[1;33m(\u001b[0m\u001b[0mdim\u001b[0m\u001b[1;33m)\u001b[0m\u001b[1;33m\u001b[0m\u001b[1;33m\u001b[0m\u001b[0m\n\u001b[0m\u001b[0;32m   1673\u001b[0m     \u001b[1;32melse\u001b[0m\u001b[1;33m:\u001b[0m\u001b[1;33m\u001b[0m\u001b[1;33m\u001b[0m\u001b[0m\n\u001b[0;32m   1674\u001b[0m         \u001b[0mret\u001b[0m \u001b[1;33m=\u001b[0m \u001b[0minput\u001b[0m\u001b[1;33m.\u001b[0m\u001b[0mlog_softmax\u001b[0m\u001b[1;33m(\u001b[0m\u001b[0mdim\u001b[0m\u001b[1;33m,\u001b[0m \u001b[0mdtype\u001b[0m\u001b[1;33m=\u001b[0m\u001b[0mdtype\u001b[0m\u001b[1;33m)\u001b[0m\u001b[1;33m\u001b[0m\u001b[1;33m\u001b[0m\u001b[0m\n",
      "\u001b[1;31mIndexError\u001b[0m: Dimension out of range (expected to be in range of [-1, 0], but got 1)"
     ]
    }
   ],
   "source": [
    "criterion(torch.tensor([1, 4]), torch.tensor([8,7]))"
   ]
  },
  {
   "cell_type": "code",
   "execution_count": 169,
   "metadata": {},
   "outputs": [
    {
     "data": {
      "text/plain": [
       "array([0., 0., 0., ..., 0., 0., 0.])"
      ]
     },
     "execution_count": 169,
     "metadata": {},
     "output_type": "execute_result"
    }
   ],
   "source": [
    "b221[10]"
   ]
  },
  {
   "cell_type": "code",
   "execution_count": null,
   "metadata": {
    "colab": {
     "base_uri": "https://localhost:8080/",
     "height": 257
    },
    "id": "OQ6w93vDQgyO",
    "outputId": "95006542-6d63-49ea-e3c4-90ff4536c20e"
   },
   "outputs": [
    {
     "ename": "TypeError",
     "evalue": "ignored",
     "output_type": "error",
     "traceback": [
      "\u001b[1;31m---------------------------------------------------------------------------\u001b[0m",
      "\u001b[1;31mTypeError\u001b[0m                                 Traceback (most recent call last)",
      "\u001b[1;32m<ipython-input-28-e01f426252d8>\u001b[0m in \u001b[0;36m<module>\u001b[1;34m\u001b[0m\n\u001b[0;32m      1\u001b[0m \u001b[1;31m# 2d view of the graph before training.\u001b[0m\u001b[1;33m\u001b[0m\u001b[1;33m\u001b[0m\u001b[1;33m\u001b[0m\u001b[0m\n\u001b[1;32m----> 2\u001b[1;33m \u001b[0mmodel\u001b[0m \u001b[1;33m=\u001b[0m \u001b[0mGCN\u001b[0m\u001b[1;33m(\u001b[0m\u001b[0mhidden_channels\u001b[0m\u001b[1;33m=\u001b[0m\u001b[1;36m16\u001b[0m\u001b[1;33m)\u001b[0m\u001b[1;33m\u001b[0m\u001b[1;33m\u001b[0m\u001b[0m\n\u001b[0m\u001b[0;32m      3\u001b[0m \u001b[0mmodel\u001b[0m\u001b[1;33m.\u001b[0m\u001b[0meval\u001b[0m\u001b[1;33m(\u001b[0m\u001b[1;33m)\u001b[0m\u001b[1;33m\u001b[0m\u001b[1;33m\u001b[0m\u001b[0m\n\u001b[0;32m      4\u001b[0m \u001b[1;33m\u001b[0m\u001b[0m\n\u001b[0;32m      5\u001b[0m \u001b[0mout\u001b[0m \u001b[1;33m=\u001b[0m \u001b[0mmodel\u001b[0m\u001b[1;33m(\u001b[0m\u001b[0mdata\u001b[0m\u001b[1;33m.\u001b[0m\u001b[0mx\u001b[0m\u001b[1;33m,\u001b[0m \u001b[0mdata\u001b[0m\u001b[1;33m.\u001b[0m\u001b[0medge_index\u001b[0m\u001b[1;33m)\u001b[0m\u001b[1;33m\u001b[0m\u001b[1;33m\u001b[0m\u001b[0m\n",
      "\u001b[1;31mTypeError\u001b[0m: __init__() got an unexpected keyword argument 'hidden_channels'"
     ]
    }
   ],
   "source": [
    "# 2d view of the graph before training.\n",
    "model = GCN(hidden_channels=16)\n",
    "model.eval()\n",
    "\n",
    "out = model(data.x, data.edge_index)\n",
    "visualize(out, color=data.y)"
   ]
  },
  {
   "cell_type": "code",
   "execution_count": null,
   "metadata": {
    "id": "Mo_9FocBHBzr"
   },
   "outputs": [],
   "source": [
    "# Training\n",
    "import time\n",
    "from IPython.display import Javascript  # Restrict height of output cell.\n",
    "display(Javascript('''google.colab.output.setIframeHeight(0, true, {maxHeight: 430})'''))\n",
    "\n",
    "model = GCN()\n",
    "criterion = torch.nn.CrossEntropyLoss()  # Define loss criterion.\n",
    "optimizer = torch.optim.Adam(model.parameters(), lr=0.01)  # Define optimizer.\n",
    "\n",
    "def train(data):\n",
    "    optimizer.zero_grad()  # Clear gradients.\n",
    "    out, h = model(data.x, data.edge_index)  # Perform a single forward pass.\n",
    "    loss = criterion(out[data.train_mask], data.y[data.train_mask])  # Compute the loss solely based on the training nodes.\n",
    "    loss.backward()  # Derive gradients.\n",
    "    optimizer.step()  # Update parameters based on gradients.\n",
    "    return loss, h\n",
    "\n"
   ]
  },
  {
   "cell_type": "code",
   "execution_count": null,
   "metadata": {
    "id": "c9JkgXljQwvc"
   },
   "outputs": [],
   "source": [
    "# 2d view of the graph after training.\n",
    "for epoch in range(401):\n",
    "    loss, h = train(data)\n",
    "    if epoch % 10 == 0:\n",
    "        visualize(h, color=data.y, epoch=epoch, loss=loss)\n",
    "        time.sleep(0.3)"
   ]
  },
  {
   "cell_type": "markdown",
   "metadata": {
    "id": "zORxayZfl8pa"
   },
   "source": [
    "# Practices"
   ]
  },
  {
   "cell_type": "code",
   "execution_count": 138,
   "metadata": {},
   "outputs": [
    {
     "data": {
      "image/png": "[encoded data removed]",
      "text/plain": [
       "<Figure size 432x288 with 1 Axes>"
      ]
     },
     "metadata": {},
     "output_type": "display_data"
    }
   ],
   "source": [
    "import networkx as nx\n",
    "#G1 = nx.grid_graph(dim=[6, 6])\n",
    "G2 = nx.generators.lattice.triangular_lattice_graph(5, 5, periodic=False)\n",
    "G3 = nx.hexagonal_lattice_graph(5,5)\n",
    "G4 = nx.grid_graph(dim=(range(7, 9), range(3, 6)))\n",
    "G5 = nx.diamond_graph(create_using=None)\n",
    "nx.draw(G5, with_labels=True)"
   ]
  },
  {
   "cell_type": "code",
   "execution_count": 165,
   "metadata": {},
   "outputs": [
    {
     "name": "stdout",
     "output_type": "stream",
     "text": [
      "[((0, 0), (1, 0)), ((0, 0), (0, 1)), ((0, 1), (1, 1)), ((0, 1), (0, 2)), ((0, 2), (1, 2)), ((1, 0), (2, 0)), ((1, 0), (1, 1)), ((1, 1), (2, 1)), ((1, 1), (1, 2)), ((1, 2), (2, 2)), ((2, 0), (2, 1)), ((2, 1), (2, 2))] [((2, 0), (3, 0)), ((2, 0), (2, 1)), ((2, 1), (3, 1)), ((2, 1), (2, 2)), ((2, 2), (3, 2)), ((3, 0), (4, 0)), ((3, 0), (3, 1)), ((3, 1), (4, 1)), ((3, 1), (3, 2)), ((3, 2), (4, 2)), ((4, 0), (5, 0)), ((4, 0), (4, 1)), ((4, 1), (5, 1)), ((4, 1), (4, 2)), ((4, 2), (5, 2)), ((5, 0), (5, 1)), ((5, 1), (5, 2))]\n"
     ]
    },
    {
     "data": {
      "image/png": "[encoded data removed]",
      "text/plain": [
       "<Figure size 432x288 with 1 Axes>"
      ]
     },
     "metadata": {},
     "output_type": "display_data"
    }
   ],
   "source": [
    "G4 = nx.grid_graph(dim=(range(0, 3), range(0, 3)))\n",
    "G6 = nx.grid_graph(dim=(range(0, 3), range(2, 6)))\n",
    "#G6.add_nodes_from(G4)\n",
    "#G6.add_edges_from(G4)\n",
    "print(G4.edges, G6.edges)\n",
    "nx.draw(G4, with_labels=True)\n",
    "nx.draw(G6, with_labels=True)"
   ]
  },
  {
   "cell_type": "code",
   "execution_count": null,
   "metadata": {},
   "outputs": [],
   "source": [
    "nx.grid_graph(dim=(range(0, 3), range(0, 3)))"
   ]
  },
  {
   "cell_type": "code",
   "execution_count": 167,
   "metadata": {},
   "outputs": [
    {
     "name": "stdout",
     "output_type": "stream",
     "text": [
      "[((0, 0), (1, 0)), ((0, 0), (0, 1)), ((0, 1), (1, 1)), ((0, 1), (0, 2)), ((0, 2), (1, 2)), ((1, 0), (2, 0)), ((1, 0), (1, 1)), ((1, 1), (2, 1)), ((1, 1), (1, 2)), ((1, 2), (2, 2)), ((2, 0), (2, 1)), ((2, 1), (2, 2))] [((2, 0), (3, 0)), ((2, 0), (2, 1)), ((2, 1), (3, 1)), ((2, 1), (2, 2)), ((2, 2), (3, 2)), ((3, 0), (4, 0)), ((3, 0), (3, 1)), ((3, 1), (4, 1)), ((3, 1), (3, 2)), ((3, 2), (4, 2)), ((4, 0), (5, 0)), ((4, 0), (4, 1)), ((4, 1), (5, 1)), ((4, 1), (4, 2)), ((4, 2), (5, 2)), ((5, 0), (5, 1)), ((5, 1), (5, 2))]\n"
     ]
    },
    {
     "data": {
      "image/png": "[encoded data removed]",
      "text/plain": [
       "<Figure size 432x288 with 1 Axes>"
      ]
     },
     "metadata": {},
     "output_type": "display_data"
    }
   ],
   "source": [
    "print(G4.edges, G6.edges)\n",
    "G7 = nx.Graph()\n",
    "G8 = ([((0, 0), (1, 0)), ((0, 0), (0, 1)), ((0, 1), (1, 1)), ((0, 1), (0, 2)), ((0, 2), (1, 2)), ((1, 0), (2, 0)), \\\n",
    "                   ((1, 0), (1, 1)), ((1, 1), (2, 1)), ((1, 1), (1, 2)), ((1, 2), (2, 2)), ((2, 0), (2, 1)), ((2, 1), (2, 2)), \\\n",
    "                   ((0, 3), (1, 3)), ((0, 3), (0, 4)), ((0, 4), (1, 4)), ((0, 4), (0, 5)), ((0, 5), (1, 5)), ((1, 3), (2, 3)), \\\n",
    "                   ((1, 3), (1, 4)), ((1, 4), (2, 4)), ((1, 4), (1, 5)), ((1, 5), (2, 5)), ((2, 3), (2, 4)), ((2, 4), (2, 5)),])\n",
    "G7.add_edges_from([((0, 0), (1, 0)), ((0, 0), (0, 1)), ((0, 1), (1, 1)), ((0, 1), (0, 2)), ((0, 2), (1, 2)), \\\n",
    "                   ((1, 0), (2, 0)), ((1, 0), (1, 1)), ((1, 1), (2, 1)), ((1, 1), (1, 2)), ((1, 2), (2, 2)), \\\n",
    "                   ((2, 0), (2, 1)), ((2, 1), (2, 2)), ((2, 0), (3, 0)), ((2, 0), (2, 1)), ((2, 1), (3, 1)), \\\n",
    "                   ((2, 1), (2, 2)), ((2, 2), (3, 2)), ((3, 0), (4, 0)), ((3, 0), (3, 1)), ((3, 1), (4, 1)), \\\n",
    "                   ((3, 1), (3, 2)), ((3, 2), (4, 2)), ((4, 0), (5, 0)), ((4, 0), (4, 1)), ((4, 1), (5, 1)), \\\n",
    "                   ((4, 1), (4, 2)), ((4, 2), (5, 2)), ((5, 0), (5, 1)), ((5, 1), (5, 2))])\n",
    "nx.draw(G7, with_labels=True)"
   ]
  },
  {
   "cell_type": "code",
   "execution_count": 177,
   "metadata": {},
   "outputs": [
    {
     "data": {
      "text/plain": [
       "AdjacencyView({(0, 0): {(1, 0): {}, (0, 1): {}}, (1, 0): {(0, 0): {}, (2, 0): {}, (1, 1): {}}, (0, 1): {(0, 0): {}, (1, 1): {}, (0, 2): {}}, (1, 1): {(0, 1): {}, (1, 0): {}, (2, 1): {}, (1, 2): {}}, (0, 2): {(0, 1): {}, (1, 2): {}}, (1, 2): {(0, 2): {}, (1, 1): {}, (2, 2): {}}, (2, 0): {(1, 0): {}, (2, 1): {}, (3, 0): {}}, (2, 1): {(1, 1): {}, (2, 0): {}, (2, 2): {}, (3, 1): {}}, (2, 2): {(1, 2): {}, (2, 1): {}, (3, 2): {}}, (3, 0): {(2, 0): {}, (4, 0): {}, (3, 1): {}}, (3, 1): {(2, 1): {}, (3, 0): {}, (4, 1): {}, (3, 2): {}}, (3, 2): {(2, 2): {}, (3, 1): {}, (4, 2): {}}, (4, 0): {(3, 0): {}, (5, 0): {}, (4, 1): {}}, (4, 1): {(3, 1): {}, (4, 0): {}, (5, 1): {}, (4, 2): {}}, (4, 2): {(3, 2): {}, (4, 1): {}, (5, 2): {}}, (5, 0): {(4, 0): {}, (5, 1): {}}, (5, 1): {(4, 1): {}, (5, 0): {}, (5, 2): {}}, (5, 2): {(4, 2): {}, (5, 1): {}}})"
      ]
     },
     "execution_count": 177,
     "metadata": {},
     "output_type": "execute_result"
    }
   ],
   "source": [
    "G7.adj"
   ]
  },
  {
   "cell_type": "code",
   "execution_count": null,
   "metadata": {
    "colab": {
     "base_uri": "https://localhost:8080/",
     "height": 497
    },
    "id": "2Vc9ypf0TSxg",
    "outputId": "6011c688-5443-4890-9c52-2101d50988d7"
   },
   "outputs": [],
   "source": [
    "# import pandas as pd\n",
    "df_tra = pd.DataFrame(a_tra.reshape(80000, 43*43))\n",
    "df_tra.shape"
   ]
  },
  {
   "cell_type": "code",
   "execution_count": 43,
   "metadata": {},
   "outputs": [
    {
     "data": {
      "text/plain": [
       "torch.Size([1849, 10])"
      ]
     },
     "execution_count": 43,
     "metadata": {},
     "output_type": "execute_result"
    }
   ],
   "source": [
    "x.expand(-1, 10).shape"
   ]
  },
  {
   "cell_type": "code",
   "execution_count": 51,
   "metadata": {},
   "outputs": [
    {
     "data": {
      "text/plain": [
       "torch.Size([1849, 1])"
      ]
     },
     "execution_count": 51,
     "metadata": {},
     "output_type": "execute_result"
    }
   ],
   "source": [
    "x.shape"
   ]
  },
  {
   "cell_type": "code",
   "execution_count": 53,
   "metadata": {},
   "outputs": [
    {
     "data": {
      "text/plain": [
       "tensor([0.0000e+00, 1.0000e+00, 2.0000e+00,  ..., 1.8460e+03, 1.8470e+03,\n",
       "        1.8480e+03])"
      ]
     },
     "execution_count": 53,
     "metadata": {},
     "output_type": "execute_result"
    }
   ],
   "source": [
    "xxx = x.expand(-1, 5)\n",
    "xxx[:,1] = "
   ]
  },
  {
   "cell_type": "code",
   "execution_count": 50,
   "metadata": {},
   "outputs": [
    {
     "data": {
      "text/plain": [
       "tensor([[0, 0, 0, 0, 0],\n",
       "        [1, 1, 1, 1, 1],\n",
       "        [2, 2, 2, 2, 2],\n",
       "        [3, 3, 3, 3, 3],\n",
       "        [4, 4, 4, 4, 4],\n",
       "        [5, 5, 5, 5, 5],\n",
       "        [6, 6, 6, 6, 6],\n",
       "        [7, 7, 7, 7, 7],\n",
       "        [8, 8, 8, 8, 8],\n",
       "        [9, 9, 9, 9, 9]], dtype=torch.int32)"
      ]
     },
     "execution_count": 50,
     "metadata": {},
     "output_type": "execute_result"
    }
   ],
   "source": [
    "a123 = torch.tensor(np.arange(10).reshape(10,1))\n",
    "a123 = a123.expand(-1, 5)\n",
    "a123"
   ]
  },
  {
   "cell_type": "code",
   "execution_count": 29,
   "metadata": {
    "collapsed": true
   },
   "outputs": [
    {
     "data": {
      "text/plain": [
       "tensor([[[[0, 1],\n",
       "          [2, 3],\n",
       "          [4, 5]],\n",
       "\n",
       "         [[6, 7],\n",
       "          [8, 9],\n",
       "          [0, 1]],\n",
       "\n",
       "         [[2, 3],\n",
       "          [4, 5],\n",
       "          [6, 7]],\n",
       "\n",
       "         [[8, 9],\n",
       "          [0, 1],\n",
       "          [2, 3]]],\n",
       "\n",
       "\n",
       "        [[[4, 5],\n",
       "          [6, 7],\n",
       "          [8, 9]],\n",
       "\n",
       "         [[0, 1],\n",
       "          [2, 3],\n",
       "          [4, 5]],\n",
       "\n",
       "         [[6, 7],\n",
       "          [8, 9],\n",
       "          [0, 1]],\n",
       "\n",
       "         [[2, 3],\n",
       "          [4, 5],\n",
       "          [6, 7]]],\n",
       "\n",
       "\n",
       "        [[[8, 9],\n",
       "          [0, 1],\n",
       "          [2, 3]],\n",
       "\n",
       "         [[4, 5],\n",
       "          [6, 7],\n",
       "          [8, 9]],\n",
       "\n",
       "         [[0, 1],\n",
       "          [2, 3],\n",
       "          [4, 5]],\n",
       "\n",
       "         [[6, 7],\n",
       "          [8, 9],\n",
       "          [0, 1]]],\n",
       "\n",
       "\n",
       "        [[[2, 3],\n",
       "          [4, 5],\n",
       "          [6, 7]],\n",
       "\n",
       "         [[8, 9],\n",
       "          [0, 1],\n",
       "          [2, 3]],\n",
       "\n",
       "         [[4, 5],\n",
       "          [6, 7],\n",
       "          [8, 9]],\n",
       "\n",
       "         [[0, 1],\n",
       "          [2, 3],\n",
       "          [4, 5]]],\n",
       "\n",
       "\n",
       "        [[[6, 7],\n",
       "          [8, 9],\n",
       "          [0, 1]],\n",
       "\n",
       "         [[2, 3],\n",
       "          [4, 5],\n",
       "          [6, 7]],\n",
       "\n",
       "         [[8, 9],\n",
       "          [0, 1],\n",
       "          [2, 3]],\n",
       "\n",
       "         [[4, 5],\n",
       "          [6, 7],\n",
       "          [8, 9]]],\n",
       "\n",
       "\n",
       "        [[[0, 1],\n",
       "          [2, 3],\n",
       "          [4, 5]],\n",
       "\n",
       "         [[6, 7],\n",
       "          [8, 9],\n",
       "          [0, 1]],\n",
       "\n",
       "         [[2, 3],\n",
       "          [4, 5],\n",
       "          [6, 7]],\n",
       "\n",
       "         [[8, 9],\n",
       "          [0, 1],\n",
       "          [2, 3]]],\n",
       "\n",
       "\n",
       "        [[[4, 5],\n",
       "          [6, 7],\n",
       "          [8, 9]],\n",
       "\n",
       "         [[0, 1],\n",
       "          [2, 3],\n",
       "          [4, 5]],\n",
       "\n",
       "         [[6, 7],\n",
       "          [8, 9],\n",
       "          [0, 1]],\n",
       "\n",
       "         [[2, 3],\n",
       "          [4, 5],\n",
       "          [6, 7]]],\n",
       "\n",
       "\n",
       "        [[[8, 9],\n",
       "          [0, 1],\n",
       "          [2, 3]],\n",
       "\n",
       "         [[4, 5],\n",
       "          [6, 7],\n",
       "          [8, 9]],\n",
       "\n",
       "         [[0, 1],\n",
       "          [2, 3],\n",
       "          [4, 5]],\n",
       "\n",
       "         [[6, 7],\n",
       "          [8, 9],\n",
       "          [0, 1]]],\n",
       "\n",
       "\n",
       "        [[[2, 3],\n",
       "          [4, 5],\n",
       "          [6, 7]],\n",
       "\n",
       "         [[8, 9],\n",
       "          [0, 1],\n",
       "          [2, 3]],\n",
       "\n",
       "         [[4, 5],\n",
       "          [6, 7],\n",
       "          [8, 9]],\n",
       "\n",
       "         [[0, 1],\n",
       "          [2, 3],\n",
       "          [4, 5]]],\n",
       "\n",
       "\n",
       "        [[[6, 7],\n",
       "          [8, 9],\n",
       "          [0, 1]],\n",
       "\n",
       "         [[2, 3],\n",
       "          [4, 5],\n",
       "          [6, 7]],\n",
       "\n",
       "         [[8, 9],\n",
       "          [0, 1],\n",
       "          [2, 3]],\n",
       "\n",
       "         [[4, 5],\n",
       "          [6, 7],\n",
       "          [8, 9]]]], dtype=torch.int32)"
      ]
     },
     "execution_count": 29,
     "metadata": {},
     "output_type": "execute_result"
    }
   ],
   "source": [
    "a123.reshape(10, 4, 3, 2)"
   ]
  },
  {
   "cell_type": "code",
   "execution_count": 51,
   "metadata": {},
   "outputs": [
    {
     "data": {
      "text/plain": [
       "tensor([[[0, 1, 2, 3, 4, 5, 6, 7, 8, 9],\n",
       "         [0, 1, 2, 3, 4, 5, 6, 7, 8, 9],\n",
       "         [0, 1, 2, 3, 4, 5, 6, 7, 8, 9]],\n",
       "\n",
       "        [[0, 1, 2, 3, 4, 5, 6, 7, 8, 9],\n",
       "         [0, 1, 2, 3, 4, 5, 6, 7, 8, 9],\n",
       "         [0, 1, 2, 3, 4, 5, 6, 7, 8, 9]]], dtype=torch.int32)"
      ]
     },
     "execution_count": 51,
     "metadata": {},
     "output_type": "execute_result"
    }
   ],
   "source": [
    "a123"
   ]
  },
  {
   "cell_type": "code",
   "execution_count": 53,
   "metadata": {},
   "outputs": [
    {
     "data": {
      "text/plain": [
       "tensor([0, 1, 2, 3, 4, 5, 6, 7, 8, 9], dtype=torch.int32)"
      ]
     },
     "execution_count": 53,
     "metadata": {},
     "output_type": "execute_result"
    }
   ],
   "source": [
    "a123[1, 1]"
   ]
  },
  {
   "cell_type": "code",
   "execution_count": 4,
   "metadata": {
    "colab": {
     "base_uri": "https://localhost:8080/"
    },
    "id": "0z-mZfhRQgvM",
    "outputId": "cdb9f752-3bb2-43ff-91eb-ae788d3acb78"
   },
   "outputs": [
    {
     "data": {
      "text/plain": [
       "array([0, 1, 2, 3, 4])"
      ]
     },
     "execution_count": 4,
     "metadata": {
      "tags": []
     },
     "output_type": "execute_result"
    }
   ],
   "source": [
    "import numpy as np\n",
    "fgd1 = np.arange(0, 5)\n",
    "fgd1"
   ]
  },
  {
   "cell_type": "code",
   "execution_count": null,
   "metadata": {
    "colab": {
     "base_uri": "https://localhost:8080/",
     "height": 319
    },
    "id": "18lk_NcjTBHL",
    "outputId": "20a91435-b9d2-41a5-b456-8570ce791411"
   },
   "outputs": [
    {
     "data": {
      "image/png": "[encoded data removed]",
      "text/plain": [
       "<Figure size 432x288 with 1 Axes>"
      ]
     },
     "metadata": {
      "tags": []
     },
     "output_type": "display_data"
    }
   ],
   "source": [
    "import networkx as nx\n",
    "G = nx.path_graph(10)\n",
    "nx.draw(G, with_labels=True)"
   ]
  },
  {
   "cell_type": "code",
   "execution_count": null,
   "metadata": {
    "id": "g-nvdDYeKFQ-"
   },
   "outputs": [],
   "source": [
    "%matplotlib inline\n",
    "import networkx as nx\n",
    "import matplotlib.pyplot as plt\n",
    "\n",
    "G = nx.Graph()\n",
    "\n",
    "G.add_nodes_from(x)\n",
    "G.add_edges_from(set_edge_index)\n",
    "\n",
    "plt.figure()\n",
    "nx.draw(G, with_labels=True)\n",
    "plt.show()\n",
    "\n",
    "nx.draw_circular(G)\n",
    "ax = plt.gca()\n",
    "ax.set_aspect('equal')"
   ]
  },
  {
   "cell_type": "code",
   "execution_count": null,
   "metadata": {
    "colab": {
     "base_uri": "https://localhost:8080/",
     "height": 411
    },
    "id": "0Uy9YoLebg0N",
    "outputId": "96f31bb1-3fb3-4f29-81ab-3f3c12af8e59"
   },
   "outputs": [
    {
     "data": {
      "image/png": "[encoded data removed]",
      "text/plain": [
       "<Figure size 504x504 with 1 Axes>"
      ]
     },
     "metadata": {
      "tags": []
     },
     "output_type": "display_data"
    }
   ],
   "source": [
    "from torch_geometric.utils import to_networkx\n",
    "from IPython.display import Javascript  # Restrict height of output cell.\n",
    "import networkx as nx\n",
    "import matplotlib.pyplot as plt\n",
    "\n",
    "G = to_networkx(data, to_undirected=True)\n",
    "visualize(G, color=data.y)"
   ]
  },
  {
   "cell_type": "code",
   "execution_count": null,
   "metadata": {
    "id": "JnNfcI0AXkrG"
   },
   "outputs": [],
   "source": [
    "def visualize(h, color, epoch=None, loss=None):\n",
    "    plt.figure(figsize=(7,7))\n",
    "    plt.xticks([])\n",
    "    plt.yticks([])\n",
    "\n",
    "    if torch.is_tensor(h):\n",
    "        h = h.detach().cpu().numpy()\n",
    "        plt.scatter(h[:, 0], h[:, 1], s=140, c=color, cmap=\"Set2\")\n",
    "        if epoch is not None and loss is not None:\n",
    "            plt.xlabel(f'Epoch: {epoch}, Loss: {loss.item():.4f}', fontsize=16)\n",
    "    else:\n",
    "        nx.draw_networkx(G, pos=nx.spring_layout(G, seed=42), with_labels=False,\n",
    "                         node_color=color, cmap=\"Set2\")\n",
    "    plt.show()"
   ]
  },
  {
   "cell_type": "code",
   "execution_count": null,
   "metadata": {
    "colab": {
     "base_uri": "https://localhost:8080/",
     "height": 411
    },
    "id": "7ypy3j_uSroX",
    "outputId": "442c4531-2c34-4d2b-c80a-9ec9c9ec7072"
   },
   "outputs": [
    {
     "data": {
      "image/png": "[encoded data removed]",
      "text/plain": [
       "<Figure size 504x504 with 1 Axes>"
      ]
     },
     "metadata": {
      "tags": []
     },
     "output_type": "display_data"
    }
   ],
   "source": [
    "from torch_geometric.utils import to_networkx\n",
    "from IPython.display import Javascript  # Restrict height of output cell.\n",
    "import networkx as nx\n",
    "import matplotlib.pyplot as plt\n",
    "\n",
    "G = to_networkx(data, to_undirected=True)\n",
    "visualize(G, color=data.y)"
   ]
  },
  {
   "cell_type": "code",
   "execution_count": null,
   "metadata": {
    "colab": {
     "base_uri": "https://localhost:8080/",
     "height": 411
    },
    "id": "Qs4SmrOnUJhg",
    "outputId": "970a1e81-ab3f-460b-bcef-93767ef0537a"
   },
   "outputs": [
    {
     "data": {
      "image/png": "[encoded data removed]",
      "text/plain": [
       "<Figure size 504x504 with 1 Axes>"
      ]
     },
     "metadata": {
      "tags": []
     },
     "output_type": "display_data"
    }
   ],
   "source": []
  },
  {
   "cell_type": "code",
   "execution_count": null,
   "metadata": {
    "colab": {
     "base_uri": "https://localhost:8080/",
     "height": 411
    },
    "id": "R-uKYhqdOuxI",
    "outputId": "e738f574-c83b-4050-86bf-57d6d649448d"
   },
   "outputs": [
    {
     "data": {
      "image/png": "[encoded data removed]",
      "text/plain": [
       "<Figure size 504x504 with 1 Axes>"
      ]
     },
     "metadata": {
      "tags": []
     },
     "output_type": "display_data"
    }
   ],
   "source": []
  },
  {
   "cell_type": "code",
   "execution_count": null,
   "metadata": {
    "colab": {
     "base_uri": "https://localhost:8080/",
     "height": 411
    },
    "id": "452W2thIRgPM",
    "outputId": "13ad54c8-04da-4942-b0b1-42ea015b7cd9"
   },
   "outputs": [
    {
     "data": {
      "image/png": "[encoded data removed]",
      "text/plain": [
       "<Figure size 504x504 with 1 Axes>"
      ]
     },
     "metadata": {
      "tags": []
     },
     "output_type": "display_data"
    }
   ],
   "source": []
  },
  {
   "cell_type": "code",
   "execution_count": null,
   "metadata": {
    "colab": {
     "base_uri": "https://localhost:8080/",
     "height": 411
    },
    "id": "_ukwiEAWR1QA",
    "outputId": "c78d0880-be5f-462b-f954-55240ed7e248"
   },
   "outputs": [
    {
     "data": {
      "image/png": "[encoded data removed]",
      "text/plain": [
       "<Figure size 504x504 with 1 Axes>"
      ]
     },
     "metadata": {
      "tags": []
     },
     "output_type": "display_data"
    }
   ],
   "source": []
  },
  {
   "cell_type": "code",
   "execution_count": null,
   "metadata": {
    "colab": {
     "base_uri": "https://localhost:8080/",
     "height": 411
    },
    "id": "1l2sne1GSJHQ",
    "outputId": "dca75c38-d9b0-4faf-e994-a573e6e57cd0"
   },
   "outputs": [
    {
     "data": {
      "image/png": "[encoded data removed]",
      "text/plain": [
       "<Figure size 504x504 with 1 Axes>"
      ]
     },
     "metadata": {
      "tags": []
     },
     "output_type": "display_data"
    }
   ],
   "source": []
  },
  {
   "cell_type": "code",
   "execution_count": null,
   "metadata": {
    "colab": {
     "base_uri": "https://localhost:8080/",
     "height": 296
    },
    "id": "_lmIp2TgHG2K",
    "outputId": "bc4e48fd-bc15-48c7-ebb8-a853fd9062a6"
   },
   "outputs": [
    {
     "name": "stdout",
     "output_type": "stream",
     "text": [
      "torch version = 1.8.0+cu111 \n",
      "cuda is available: True\n"
     ]
    },
    {
     "ename": "ModuleNotFoundError",
     "evalue": "ignored",
     "output_type": "error",
     "traceback": [
      "\u001b[1;31m---------------------------------------------------------------------------\u001b[0m",
      "\u001b[1;31mModuleNotFoundError\u001b[0m                       Traceback (most recent call last)",
      "\u001b[1;32m<ipython-input-2-c8efc8075625>\u001b[0m in \u001b[0;36m<module>\u001b[1;34m\u001b[0m\n\u001b[0;32m     16\u001b[0m \u001b[0mtorch\u001b[0m\u001b[1;33m.\u001b[0m\u001b[0mcuda\u001b[0m\u001b[1;33m.\u001b[0m\u001b[0mempty_cache\u001b[0m\u001b[1;33m(\u001b[0m\u001b[1;33m)\u001b[0m\u001b[1;33m\u001b[0m\u001b[1;33m\u001b[0m\u001b[0m\n\u001b[0;32m     17\u001b[0m \u001b[1;33m\u001b[0m\u001b[0m\n\u001b[1;32m---> 18\u001b[1;33m \u001b[1;32mfrom\u001b[0m \u001b[0mgoogle\u001b[0m\u001b[1;33m.\u001b[0m\u001b[0mcolab\u001b[0m \u001b[1;32mimport\u001b[0m \u001b[0mdrive\u001b[0m\u001b[1;33m\u001b[0m\u001b[1;33m\u001b[0m\u001b[0m\n\u001b[0m\u001b[0;32m     19\u001b[0m \u001b[0mdrive\u001b[0m\u001b[1;33m.\u001b[0m\u001b[0mmount\u001b[0m\u001b[1;33m(\u001b[0m\u001b[1;34m'/content/drive'\u001b[0m\u001b[1;33m)\u001b[0m\u001b[1;33m\u001b[0m\u001b[1;33m\u001b[0m\u001b[0m\n\u001b[0;32m     20\u001b[0m \u001b[1;33m\u001b[0m\u001b[0m\n",
      "\u001b[1;31mModuleNotFoundError\u001b[0m: No module named 'google.colab'"
     ]
    }
   ],
   "source": [
    "import torch\n",
    "import torchvision\n",
    "from torchvision import datasets, transforms\n",
    "import torch.nn as nn\n",
    "import torch.nn.functional as F\n",
    "import torch.optim as optim\n",
    "import matplotlib.pyplot as plt\n",
    "import numpy as np\n",
    "import time\n",
    "\n",
    "from torch.utils.tensorboard import SummaryWriter\n",
    "writer = SummaryWriter()\n",
    "\n",
    "device = torch.device(\"cuda\" if torch.cuda.is_available() else \"cpu\")\n",
    "print (\"torch version =\", torch.__version__, \"\\ncuda is available:\", torch.cuda.is_available())\n",
    "torch.cuda.empty_cache()\n",
    "\n",
    "from google.colab import drive\n",
    "drive.mount('/content/drive')\n",
    "\n",
    "#model_save_name = 'classifier.pt'\n",
    "#path = F\"/content/gdrive/My Drive/{model_save_name}\" \n",
    "#torch.save(model.state_dict(), path)\n",
    "!nvidia-smi\n",
    "!drive.mount(\"/content/drive\", force_remount=True)"
   ]
  },
  {
   "cell_type": "code",
   "execution_count": null,
   "metadata": {
    "colab": {
     "base_uri": "https://localhost:8080/"
    },
    "id": "RbZaAyHLI5kv",
    "outputId": "2c970a9f-90d5-4d32-c1ef-89919d6e6d8b"
   },
   "outputs": [
    {
     "name": "stderr",
     "output_type": "stream",
     "text": [
      "'ls' is not recognized as an internal or external command,\n",
      "operable program or batch file.\n"
     ]
    }
   ],
   "source": [
    "!ls /content/drive/MyDrive/'Colab Notebooks'"
   ]
  },
  {
   "cell_type": "code",
   "execution_count": null,
   "metadata": {
    "id": "gpl-0stNtd7k"
   },
   "outputs": [],
   "source": [
    "/Research/jupyternotebook/bhabha-files/trainmatrix80d2tnbsmt.npy"
   ]
  }
 ],
 "metadata": {
  "accelerator": "GPU",
  "colab": {
   "collapsed_sections": [
    "OCWWEAwNZHB9",
    "5H8tfXQkG7JT",
    "w7XC7iwfG_w6"
   ],
   "name": "20210422-BhabhaGNN.ipynb",
   "provenance": []
  },
  "kernelspec": {
   "display_name": "Python 3",
   "language": "python",
   "name": "python3"
  },
  "language_info": {
   "codemirror_mode": {
    "name": "ipython",
    "version": 3
   },
   "file_extension": ".py",
   "mimetype": "text/x-python",
   "name": "python",
   "nbconvert_exporter": "python",
   "pygments_lexer": "ipython3",
   "version": "3.6.9"
  },
  "toc": {
   "base_numbering": 1,
   "nav_menu": {},
   "number_sections": true,
   "sideBar": true,
   "skip_h1_title": false,
   "title_cell": "Table of Contents",
   "title_sidebar": "Contents",
   "toc_cell": false,
   "toc_position": {
    "height": "calc(100% - 180px)",
    "left": "10px",
    "top": "150px",
    "width": "165px"
   },
   "toc_section_display": true,
   "toc_window_display": true
  }
 },
 "nbformat": 4,
 "nbformat_minor": 1
}
